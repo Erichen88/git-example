{
 "cells": [
  {
   "cell_type": "code",
   "execution_count": 1,
   "metadata": {},
   "outputs": [],
   "source": [
    "import os\n",
    "import math\n",
    "from matplotlib.font_manager import FontProperties\n",
    "import numpy as np\n",
    "import pandas as pd"
   ]
  },
  {
   "cell_type": "code",
   "execution_count": 2,
   "metadata": {},
   "outputs": [],
   "source": [
    "os.chdir('/Users/quan/Downloads/PythonBook_code_data/part4/025')"
   ]
  },
  {
   "cell_type": "code",
   "execution_count": 3,
   "metadata": {},
   "outputs": [
    {
     "data": {
      "text/plain": [
       "(161, 1)"
      ]
     },
     "execution_count": 3,
     "metadata": {},
     "output_type": "execute_result"
    }
   ],
   "source": [
    "# 2001年1月 到 2014年2月 中國大陸月度CPI\n",
    "CPI=pd.read_csv('/Users/quan/Downloads/PythonBook_code_data/part4/025/CPI.csv',index_col='time')\n",
    "#轉換成時間序列格式\n",
    "CPI.index=pd.to_datetime(CPI.index)\n",
    "CPI.shape"
   ]
  },
  {
   "cell_type": "code",
   "execution_count": 4,
   "metadata": {},
   "outputs": [
    {
     "data": {
      "text/html": [
       "<div>\n",
       "<style scoped>\n",
       "    .dataframe tbody tr th:only-of-type {\n",
       "        vertical-align: middle;\n",
       "    }\n",
       "\n",
       "    .dataframe tbody tr th {\n",
       "        vertical-align: top;\n",
       "    }\n",
       "\n",
       "    .dataframe thead th {\n",
       "        text-align: right;\n",
       "    }\n",
       "</style>\n",
       "<table border=\"1\" class=\"dataframe\">\n",
       "  <thead>\n",
       "    <tr style=\"text-align: right;\">\n",
       "      <th></th>\n",
       "      <th>CPI</th>\n",
       "    </tr>\n",
       "    <tr>\n",
       "      <th>time</th>\n",
       "      <th></th>\n",
       "    </tr>\n",
       "  </thead>\n",
       "  <tbody>\n",
       "    <tr>\n",
       "      <th>2014-05-01</th>\n",
       "      <td>100.1</td>\n",
       "    </tr>\n",
       "    <tr>\n",
       "      <th>2014-04-01</th>\n",
       "      <td>99.7</td>\n",
       "    </tr>\n",
       "    <tr>\n",
       "      <th>2014-03-01</th>\n",
       "      <td>99.5</td>\n",
       "    </tr>\n",
       "  </tbody>\n",
       "</table>\n",
       "</div>"
      ],
      "text/plain": [
       "              CPI\n",
       "time             \n",
       "2014-05-01  100.1\n",
       "2014-04-01   99.7\n",
       "2014-03-01   99.5"
      ]
     },
     "execution_count": 4,
     "metadata": {},
     "output_type": "execute_result"
    }
   ],
   "source": [
    "CPI.head(n=3)"
   ]
  },
  {
   "cell_type": "code",
   "execution_count": 5,
   "metadata": {},
   "outputs": [
    {
     "data": {
      "text/html": [
       "<div>\n",
       "<style scoped>\n",
       "    .dataframe tbody tr th:only-of-type {\n",
       "        vertical-align: middle;\n",
       "    }\n",
       "\n",
       "    .dataframe tbody tr th {\n",
       "        vertical-align: top;\n",
       "    }\n",
       "\n",
       "    .dataframe thead th {\n",
       "        text-align: right;\n",
       "    }\n",
       "</style>\n",
       "<table border=\"1\" class=\"dataframe\">\n",
       "  <thead>\n",
       "    <tr style=\"text-align: right;\">\n",
       "      <th></th>\n",
       "      <th>CPI</th>\n",
       "    </tr>\n",
       "    <tr>\n",
       "      <th>time</th>\n",
       "      <th></th>\n",
       "    </tr>\n",
       "  </thead>\n",
       "  <tbody>\n",
       "    <tr>\n",
       "      <th>2001-03-01</th>\n",
       "      <td>99.4</td>\n",
       "    </tr>\n",
       "    <tr>\n",
       "      <th>2001-02-01</th>\n",
       "      <td>100.2</td>\n",
       "    </tr>\n",
       "    <tr>\n",
       "      <th>2001-01-01</th>\n",
       "      <td>101.9</td>\n",
       "    </tr>\n",
       "  </tbody>\n",
       "</table>\n",
       "</div>"
      ],
      "text/plain": [
       "              CPI\n",
       "time             \n",
       "2001-03-01   99.4\n",
       "2001-02-01  100.2\n",
       "2001-01-01  101.9"
      ]
     },
     "execution_count": 5,
     "metadata": {},
     "output_type": "execute_result"
    }
   ],
   "source": [
    "#序列後三個做為預測對照\n",
    "CPI.tail(n=3)"
   ]
  },
  {
   "cell_type": "code",
   "execution_count": 6,
   "metadata": {},
   "outputs": [
    {
     "data": {
      "text/html": [
       "<div>\n",
       "<style scoped>\n",
       "    .dataframe tbody tr th:only-of-type {\n",
       "        vertical-align: middle;\n",
       "    }\n",
       "\n",
       "    .dataframe tbody tr th {\n",
       "        vertical-align: top;\n",
       "    }\n",
       "\n",
       "    .dataframe thead th {\n",
       "        text-align: right;\n",
       "    }\n",
       "</style>\n",
       "<table border=\"1\" class=\"dataframe\">\n",
       "  <thead>\n",
       "    <tr style=\"text-align: right;\">\n",
       "      <th></th>\n",
       "      <th>CPI</th>\n",
       "    </tr>\n",
       "    <tr>\n",
       "      <th>time</th>\n",
       "      <th></th>\n",
       "    </tr>\n",
       "  </thead>\n",
       "  <tbody>\n",
       "    <tr>\n",
       "      <th>2013-12-01</th>\n",
       "      <td>100.3</td>\n",
       "    </tr>\n",
       "    <tr>\n",
       "      <th>2014-01-01</th>\n",
       "      <td>101.0</td>\n",
       "    </tr>\n",
       "    <tr>\n",
       "      <th>2014-02-01</th>\n",
       "      <td>100.5</td>\n",
       "    </tr>\n",
       "  </tbody>\n",
       "</table>\n",
       "</div>"
      ],
      "text/plain": [
       "              CPI\n",
       "time             \n",
       "2013-12-01  100.3\n",
       "2014-01-01  101.0\n",
       "2014-02-01  100.5"
      ]
     },
     "execution_count": 6,
     "metadata": {},
     "output_type": "execute_result"
    }
   ],
   "source": [
    "CPI=CPI.sort_index() #按日期排序\n",
    "#選擇train data\n",
    "CPItrain=CPI[:-3]\n",
    "CPItrain.tail(n=3)"
   ]
  },
  {
   "cell_type": "code",
   "execution_count": 7,
   "metadata": {},
   "outputs": [
    {
     "data": {
      "text/html": [
       "<div>\n",
       "<style scoped>\n",
       "    .dataframe tbody tr th:only-of-type {\n",
       "        vertical-align: middle;\n",
       "    }\n",
       "\n",
       "    .dataframe tbody tr th {\n",
       "        vertical-align: top;\n",
       "    }\n",
       "\n",
       "    .dataframe thead th {\n",
       "        text-align: right;\n",
       "    }\n",
       "</style>\n",
       "<table border=\"1\" class=\"dataframe\">\n",
       "  <thead>\n",
       "    <tr style=\"text-align: right;\">\n",
       "      <th></th>\n",
       "      <th>CPI</th>\n",
       "    </tr>\n",
       "    <tr>\n",
       "      <th>time</th>\n",
       "      <th></th>\n",
       "    </tr>\n",
       "  </thead>\n",
       "  <tbody>\n",
       "    <tr>\n",
       "      <th>2014-03-01</th>\n",
       "      <td>99.5</td>\n",
       "    </tr>\n",
       "    <tr>\n",
       "      <th>2014-04-01</th>\n",
       "      <td>99.7</td>\n",
       "    </tr>\n",
       "    <tr>\n",
       "      <th>2014-05-01</th>\n",
       "      <td>100.1</td>\n",
       "    </tr>\n",
       "  </tbody>\n",
       "</table>\n",
       "</div>"
      ],
      "text/plain": [
       "              CPI\n",
       "time             \n",
       "2014-03-01   99.5\n",
       "2014-04-01   99.7\n",
       "2014-05-01  100.1"
      ]
     },
     "execution_count": 7,
     "metadata": {},
     "output_type": "execute_result"
    }
   ],
   "source": [
    "#選擇test data\n",
    "CPItest = CPI[-3:]\n",
    "CPItest"
   ]
  },
  {
   "cell_type": "code",
   "execution_count": 9,
   "metadata": {},
   "outputs": [
    {
     "data": {
      "text/plain": [
       "<matplotlib.axes._subplots.AxesSubplot at 0x1114c4630>"
      ]
     },
     "execution_count": 9,
     "metadata": {},
     "output_type": "execute_result"
    },
    {
     "data": {
      "image/png": "[encoded data removed]",
      "text/plain": [
       "<Figure size 432x288 with 1 Axes>"
      ]
     },
     "metadata": {},
     "output_type": "display_data"
    }
   ],
   "source": [
    "#繪製時序圖\n",
    "CPI.plot(title='CPI 2001-2014')"
   ]
  },
  {
   "cell_type": "markdown",
   "metadata": {},
   "source": [
    "定態，未明顯遞增遞減"
   ]
  },
  {
   "cell_type": "code",
   "execution_count": 12,
   "metadata": {},
   "outputs": [],
   "source": [
    "# 對序列進行ADF單根檢定，判斷其定態性\n",
    "# 載ADF函數\n",
    "from arch.unitroot import ADF"
   ]
  },
  {
   "cell_type": "code",
   "execution_count": 13,
   "metadata": {},
   "outputs": [
    {
     "name": "stdout",
     "output_type": "stream",
     "text": [
      "   Augmented Dickey-Fuller Results   \n",
      "=====================================\n",
      "Test Statistic                 -2.947\n",
      "P-value                         0.040\n",
      "Lags                               10\n",
      "-------------------------------------\n",
      "\n",
      "Trend: Constant\n",
      "Critical Values: -3.48 (1%), -2.88 (5%), -2.58 (10%)\n",
      "Null Hypothesis: The process contains a unit root.\n",
      "Alternative Hypothesis: The process is weakly stationary.\n"
     ]
    }
   ],
   "source": [
    "#進行ADF單根檢定，並檢視結果\n",
    "#最大落後階數設為10\n",
    "#防止使用的落後階數過多導致p=value偏低\n",
    "\n",
    "CPItrain=CPItrain.dropna()\n",
    "print(ADF(CPItrain,max_lags=10).summary().as_text())"
   ]
  },
  {
   "cell_type": "markdown",
   "metadata": {},
   "source": [
    "統計量等於-2.947，小於5%顯著性水平下的臨界值-2.88，拒絕虛無假設，序列為定態 "
   ]
  },
  {
   "cell_type": "markdown",
   "metadata": {},
   "source": [
    "判斷CPI序列是否為白雜訊序列，採LB檢定(Ljung-Box)"
   ]
  },
  {
   "cell_type": "markdown",
   "metadata": {},
   "source": [
    "Ljung-Box 採用Q統計量"
   ]
  },
  {
   "cell_type": "code",
   "execution_count": 15,
   "metadata": {},
   "outputs": [
    {
     "data": {
      "text/plain": [
       "0.0005560128948515358"
      ]
     },
     "execution_count": 15,
     "metadata": {},
     "output_type": "execute_result"
    }
   ],
   "source": [
    "from statsmodels.tsa import stattools\n",
    "LjungBox=stattools.q_stat(stattools.acf(CPItrain)[1:12],len(CPItrain))\n",
    "LjungBox[1][-1] "
   ]
  },
  {
   "cell_type": "markdown",
   "metadata": {},
   "source": [
    "檢定的p值為0.000556<0.05，拒絕虛無假設，接受對立假設，認為CPI序列不是白雜訊序列。"
   ]
  },
  {
   "cell_type": "markdown",
   "metadata": {},
   "source": [
    "2.模型識別與估計"
   ]
  },
  {
   "cell_type": "markdown",
   "metadata": {},
   "source": [
    "採ARMA模型，識別參數p和q，利用ACF和PACF來判斷模型的具體形式。"
   ]
  },
  {
   "cell_type": "code",
   "execution_count": 67,
   "metadata": {},
   "outputs": [
    {
     "data": {
      "image/png": "[encoded data removed]",
      "text/plain": [
       "<Figure size 432x288 with 2 Axes>"
      ]
     },
     "metadata": {},
     "output_type": "display_data"
    }
   ],
   "source": [
    "from statsmodels.graphics.tsaplots import *\n",
    "import matplotlib.pyplot as plt\n",
    "#將畫面一分為二\n",
    "axe1=plt.subplot(121)\n",
    "axe2=plt.subplot(122)\n",
    "\n",
    "#在第一個畫面中畫出序列的自相關係數圖 \n",
    "plot1=plot_acf(CPItrain,lags=30,ax=axe1),plt.axhline(0.05, color= 'r')\n",
    "\n",
    "#在第二個畫面中畫出序列的偏自相關係數圖\n",
    "plot2=plot_pacf(CPItrain,lags=30,ax=axe2),plt.axhline(0.05, color= 'r')"
   ]
  },
  {
   "cell_type": "code",
   "execution_count": 79,
   "metadata": {},
   "outputs": [
    {
     "data": {
      "image/png": "[encoded data removed]",
      "text/plain": [
       "<Figure size 432x288 with 2 Axes>"
      ]
     },
     "metadata": {},
     "output_type": "display_data"
    }
   ],
   "source": [
    "axe1=plt.subplot(121)\n",
    "#在第一個畫面中畫出序列的自相關係數圖 \n",
    "plot1=plot_acf(CPItrain,lags=30,ax=axe1),plt.axhline(0.05, color= 'r'),plt.axhline(-0.05, color= 'r')\n",
    "axe2=plt.subplot(122)\n",
    "plot2=plot_pacf(CPItrain,lags=30,ax=axe2),plt.axhline(0.05, color= 'r'),plt.axhline(-0.05, color= 'r')"
   ]
  },
  {
   "cell_type": "markdown",
   "metadata": {},
   "source": [
    "CPItrain的自相關和偏自相關係數圖"
   ]
  },
  {
   "cell_type": "markdown",
   "metadata": {},
   "source": [
    "透過CPI訓練集序列的ACF和PACF圖，我們發現序列的自相關係數和偏自相關係數都呈現出拖尾的性質，因此可以初步判斷 p>0 , q>0。至於p和q的具體取值還無法判斷。因此考慮建立起低階p、q的各種組合情況下的ARMA模型，並運用AIC準則比較，選出AIC最小的模型。"
   ]
  },
  {
   "cell_type": "code",
   "execution_count": 17,
   "metadata": {},
   "outputs": [
    {
     "name": "stderr",
     "output_type": "stream",
     "text": [
      "/Users/quan/anaconda3/lib/python3.6/site-packages/statsmodels/tsa/base/tsa_model.py:225: ValueWarning: A date index has been provided, but it has no associated frequency information and so will be ignored when e.g. forecasting.\n",
      "  ' ignored when e.g. forecasting.', ValueWarning)\n"
     ]
    },
    {
     "data": {
      "text/html": [
       "<table class=\"simpletable\">\n",
       "<caption>ARMA Model Results</caption>\n",
       "<tr>\n",
       "  <th>Dep. Variable:</th>        <td>CPI</td>       <th>  No. Observations:  </th>    <td>157</td>  \n",
       "</tr>\n",
       "<tr>\n",
       "  <th>Model:</th>            <td>ARMA(1, 1)</td>    <th>  Log Likelihood     </th> <td>-150.339</td>\n",
       "</tr>\n",
       "<tr>\n",
       "  <th>Method:</th>             <td>css-mle</td>     <th>  S.D. of innovations</th>   <td>0.630</td> \n",
       "</tr>\n",
       "<tr>\n",
       "  <th>Date:</th>          <td>Mon, 16 Mar 2020</td> <th>  AIC                </th>  <td>308.678</td>\n",
       "</tr>\n",
       "<tr>\n",
       "  <th>Time:</th>              <td>15:54:35</td>     <th>  BIC                </th>  <td>320.903</td>\n",
       "</tr>\n",
       "<tr>\n",
       "  <th>Sample:</th>                <td>0</td>        <th>  HQIC               </th>  <td>313.643</td>\n",
       "</tr>\n",
       "<tr>\n",
       "  <th></th>                       <td> </td>        <th>                     </th>     <td> </td>   \n",
       "</tr>\n",
       "</table>\n",
       "<table class=\"simpletable\">\n",
       "<tr>\n",
       "      <td></td>         <th>coef</th>     <th>std err</th>      <th>z</th>      <th>P>|z|</th>  <th>[0.025</th>    <th>0.975]</th>  \n",
       "</tr>\n",
       "<tr>\n",
       "  <th>const</th>     <td>  100.2373</td> <td>    0.066</td> <td> 1516.140</td> <td> 0.000</td> <td>  100.108</td> <td>  100.367</td>\n",
       "</tr>\n",
       "<tr>\n",
       "  <th>ar.L1.CPI</th> <td>    0.0934</td> <td>    0.248</td> <td>    0.377</td> <td> 0.707</td> <td>   -0.392</td> <td>    0.579</td>\n",
       "</tr>\n",
       "<tr>\n",
       "  <th>ma.L1.CPI</th> <td>    0.1932</td> <td>    0.240</td> <td>    0.805</td> <td> 0.422</td> <td>   -0.277</td> <td>    0.664</td>\n",
       "</tr>\n",
       "</table>\n",
       "<table class=\"simpletable\">\n",
       "<caption>Roots</caption>\n",
       "<tr>\n",
       "    <td></td>   <th>            Real</th>  <th>         Imaginary</th> <th>         Modulus</th>  <th>        Frequency</th>\n",
       "</tr>\n",
       "<tr>\n",
       "  <th>AR.1</th> <td>          10.7069</td> <td>          +0.0000j</td> <td>          10.7069</td> <td>           0.0000</td>\n",
       "</tr>\n",
       "<tr>\n",
       "  <th>MA.1</th> <td>          -5.1771</td> <td>          +0.0000j</td> <td>           5.1771</td> <td>           0.5000</td>\n",
       "</tr>\n",
       "</table>"
      ],
      "text/plain": [
       "<class 'statsmodels.iolib.summary.Summary'>\n",
       "\"\"\"\n",
       "                              ARMA Model Results                              \n",
       "==============================================================================\n",
       "Dep. Variable:                    CPI   No. Observations:                  157\n",
       "Model:                     ARMA(1, 1)   Log Likelihood                -150.339\n",
       "Method:                       css-mle   S.D. of innovations              0.630\n",
       "Date:                Mon, 16 Mar 2020   AIC                            308.678\n",
       "Time:                        15:54:35   BIC                            320.903\n",
       "Sample:                             0   HQIC                           313.643\n",
       "                                                                              \n",
       "==============================================================================\n",
       "                 coef    std err          z      P>|z|      [0.025      0.975]\n",
       "------------------------------------------------------------------------------\n",
       "const        100.2373      0.066   1516.140      0.000     100.108     100.367\n",
       "ar.L1.CPI      0.0934      0.248      0.377      0.707      -0.392       0.579\n",
       "ma.L1.CPI      0.1932      0.240      0.805      0.422      -0.277       0.664\n",
       "                                    Roots                                    \n",
       "=============================================================================\n",
       "                  Real          Imaginary           Modulus         Frequency\n",
       "-----------------------------------------------------------------------------\n",
       "AR.1           10.7069           +0.0000j           10.7069            0.0000\n",
       "MA.1           -5.1771           +0.0000j            5.1771            0.5000\n",
       "-----------------------------------------------------------------------------\n",
       "\"\"\""
      ]
     },
     "execution_count": 17,
     "metadata": {},
     "output_type": "execute_result"
    }
   ],
   "source": [
    "from statsmodels.tsa import arima_model\n",
    "#order表示建立的模型的階數，c(1,0,1)表示建立的是ARMA(1,1)模型；\n",
    "#中間的數字0表示使用原始的、未進行過差分（差分次數為0）的數據；\n",
    "#此處我們無需考慮它\n",
    "\n",
    "model1=arima_model.ARIMA(CPItrain,order=(1,0,1)).fit()\n",
    "model1.summary()"
   ]
  },
  {
   "cell_type": "code",
   "execution_count": 18,
   "metadata": {},
   "outputs": [
    {
     "name": "stderr",
     "output_type": "stream",
     "text": [
      "/Users/quan/anaconda3/lib/python3.6/site-packages/statsmodels/tsa/base/tsa_model.py:225: ValueWarning: A date index has been provided, but it has no associated frequency information and so will be ignored when e.g. forecasting.\n",
      "  ' ignored when e.g. forecasting.', ValueWarning)\n"
     ]
    },
    {
     "data": {
      "text/html": [
       "<table class=\"simpletable\">\n",
       "<caption>ARMA Model Results</caption>\n",
       "<tr>\n",
       "  <th>Dep. Variable:</th>        <td>CPI</td>       <th>  No. Observations:  </th>    <td>157</td>  \n",
       "</tr>\n",
       "<tr>\n",
       "  <th>Model:</th>            <td>ARMA(1, 2)</td>    <th>  Log Likelihood     </th> <td>-150.261</td>\n",
       "</tr>\n",
       "<tr>\n",
       "  <th>Method:</th>             <td>css-mle</td>     <th>  S.D. of innovations</th>   <td>0.630</td> \n",
       "</tr>\n",
       "<tr>\n",
       "  <th>Date:</th>          <td>Mon, 16 Mar 2020</td> <th>  AIC                </th>  <td>310.521</td>\n",
       "</tr>\n",
       "<tr>\n",
       "  <th>Time:</th>              <td>15:54:42</td>     <th>  BIC                </th>  <td>325.802</td>\n",
       "</tr>\n",
       "<tr>\n",
       "  <th>Sample:</th>                <td>0</td>        <th>  HQIC               </th>  <td>316.727</td>\n",
       "</tr>\n",
       "<tr>\n",
       "  <th></th>                       <td> </td>        <th>                     </th>     <td> </td>   \n",
       "</tr>\n",
       "</table>\n",
       "<table class=\"simpletable\">\n",
       "<tr>\n",
       "      <td></td>         <th>coef</th>     <th>std err</th>      <th>z</th>      <th>P>|z|</th>  <th>[0.025</th>    <th>0.975]</th>  \n",
       "</tr>\n",
       "<tr>\n",
       "  <th>const</th>     <td>  100.2375</td> <td>    0.067</td> <td> 1502.409</td> <td> 0.000</td> <td>  100.107</td> <td>  100.368</td>\n",
       "</tr>\n",
       "<tr>\n",
       "  <th>ar.L1.CPI</th> <td>   -0.2048</td> <td>    0.673</td> <td>   -0.304</td> <td> 0.761</td> <td>   -1.523</td> <td>    1.114</td>\n",
       "</tr>\n",
       "<tr>\n",
       "  <th>ma.L1.CPI</th> <td>    0.4956</td> <td>    0.667</td> <td>    0.743</td> <td> 0.459</td> <td>   -0.811</td> <td>    1.802</td>\n",
       "</tr>\n",
       "<tr>\n",
       "  <th>ma.L2.CPI</th> <td>    0.1054</td> <td>    0.199</td> <td>    0.531</td> <td> 0.596</td> <td>   -0.284</td> <td>    0.495</td>\n",
       "</tr>\n",
       "</table>\n",
       "<table class=\"simpletable\">\n",
       "<caption>Roots</caption>\n",
       "<tr>\n",
       "    <td></td>   <th>            Real</th>  <th>         Imaginary</th> <th>         Modulus</th>  <th>        Frequency</th>\n",
       "</tr>\n",
       "<tr>\n",
       "  <th>AR.1</th> <td>          -4.8834</td> <td>          +0.0000j</td> <td>           4.8834</td> <td>           0.5000</td>\n",
       "</tr>\n",
       "<tr>\n",
       "  <th>MA.1</th> <td>          -2.3501</td> <td>          -1.9904j</td> <td>           3.0797</td> <td>          -0.3882</td>\n",
       "</tr>\n",
       "<tr>\n",
       "  <th>MA.2</th> <td>          -2.3501</td> <td>          +1.9904j</td> <td>           3.0797</td> <td>           0.3882</td>\n",
       "</tr>\n",
       "</table>"
      ],
      "text/plain": [
       "<class 'statsmodels.iolib.summary.Summary'>\n",
       "\"\"\"\n",
       "                              ARMA Model Results                              \n",
       "==============================================================================\n",
       "Dep. Variable:                    CPI   No. Observations:                  157\n",
       "Model:                     ARMA(1, 2)   Log Likelihood                -150.261\n",
       "Method:                       css-mle   S.D. of innovations              0.630\n",
       "Date:                Mon, 16 Mar 2020   AIC                            310.521\n",
       "Time:                        15:54:42   BIC                            325.802\n",
       "Sample:                             0   HQIC                           316.727\n",
       "                                                                              \n",
       "==============================================================================\n",
       "                 coef    std err          z      P>|z|      [0.025      0.975]\n",
       "------------------------------------------------------------------------------\n",
       "const        100.2375      0.067   1502.409      0.000     100.107     100.368\n",
       "ar.L1.CPI     -0.2048      0.673     -0.304      0.761      -1.523       1.114\n",
       "ma.L1.CPI      0.4956      0.667      0.743      0.459      -0.811       1.802\n",
       "ma.L2.CPI      0.1054      0.199      0.531      0.596      -0.284       0.495\n",
       "                                    Roots                                    \n",
       "=============================================================================\n",
       "                  Real          Imaginary           Modulus         Frequency\n",
       "-----------------------------------------------------------------------------\n",
       "AR.1           -4.8834           +0.0000j            4.8834            0.5000\n",
       "MA.1           -2.3501           -1.9904j            3.0797           -0.3882\n",
       "MA.2           -2.3501           +1.9904j            3.0797            0.3882\n",
       "-----------------------------------------------------------------------------\n",
       "\"\"\""
      ]
     },
     "execution_count": 18,
     "metadata": {},
     "output_type": "execute_result"
    }
   ],
   "source": [
    "#同理，我們建立起其它階數的模型\n",
    "model2=arima_model.ARIMA(CPItrain,order=(1,0,2)).fit()\n",
    "model2.summary()"
   ]
  },
  {
   "cell_type": "code",
   "execution_count": 19,
   "metadata": {},
   "outputs": [
    {
     "name": "stderr",
     "output_type": "stream",
     "text": [
      "/Users/quan/anaconda3/lib/python3.6/site-packages/statsmodels/tsa/base/tsa_model.py:225: ValueWarning: A date index has been provided, but it has no associated frequency information and so will be ignored when e.g. forecasting.\n",
      "  ' ignored when e.g. forecasting.', ValueWarning)\n"
     ]
    },
    {
     "data": {
      "text/html": [
       "<table class=\"simpletable\">\n",
       "<caption>ARMA Model Results</caption>\n",
       "<tr>\n",
       "  <th>Dep. Variable:</th>        <td>CPI</td>       <th>  No. Observations:  </th>    <td>157</td>  \n",
       "</tr>\n",
       "<tr>\n",
       "  <th>Model:</th>            <td>ARMA(2, 1)</td>    <th>  Log Likelihood     </th> <td>-148.966</td>\n",
       "</tr>\n",
       "<tr>\n",
       "  <th>Method:</th>             <td>css-mle</td>     <th>  S.D. of innovations</th>   <td>0.621</td> \n",
       "</tr>\n",
       "<tr>\n",
       "  <th>Date:</th>          <td>Mon, 16 Mar 2020</td> <th>  AIC                </th>  <td>307.933</td>\n",
       "</tr>\n",
       "<tr>\n",
       "  <th>Time:</th>              <td>15:55:07</td>     <th>  BIC                </th>  <td>323.214</td>\n",
       "</tr>\n",
       "<tr>\n",
       "  <th>Sample:</th>                <td>0</td>        <th>  HQIC               </th>  <td>314.139</td>\n",
       "</tr>\n",
       "<tr>\n",
       "  <th></th>                       <td> </td>        <th>                     </th>     <td> </td>   \n",
       "</tr>\n",
       "</table>\n",
       "<table class=\"simpletable\">\n",
       "<tr>\n",
       "      <td></td>         <th>coef</th>     <th>std err</th>      <th>z</th>      <th>P>|z|</th>  <th>[0.025</th>    <th>0.975]</th>  \n",
       "</tr>\n",
       "<tr>\n",
       "  <th>const</th>     <td>  100.2517</td> <td>    0.018</td> <td> 5622.142</td> <td> 0.000</td> <td>  100.217</td> <td>  100.287</td>\n",
       "</tr>\n",
       "<tr>\n",
       "  <th>ar.L1.CPI</th> <td>    1.2533</td> <td>    0.077</td> <td>   16.224</td> <td> 0.000</td> <td>    1.102</td> <td>    1.405</td>\n",
       "</tr>\n",
       "<tr>\n",
       "  <th>ar.L2.CPI</th> <td>   -0.3025</td> <td>    0.080</td> <td>   -3.802</td> <td> 0.000</td> <td>   -0.458</td> <td>   -0.147</td>\n",
       "</tr>\n",
       "<tr>\n",
       "  <th>ma.L1.CPI</th> <td>   -1.0000</td> <td>    0.020</td> <td>  -50.179</td> <td> 0.000</td> <td>   -1.039</td> <td>   -0.961</td>\n",
       "</tr>\n",
       "</table>\n",
       "<table class=\"simpletable\">\n",
       "<caption>Roots</caption>\n",
       "<tr>\n",
       "    <td></td>   <th>            Real</th>  <th>         Imaginary</th> <th>         Modulus</th>  <th>        Frequency</th>\n",
       "</tr>\n",
       "<tr>\n",
       "  <th>AR.1</th> <td>           1.0789</td> <td>          +0.0000j</td> <td>           1.0789</td> <td>           0.0000</td>\n",
       "</tr>\n",
       "<tr>\n",
       "  <th>AR.2</th> <td>           3.0637</td> <td>          +0.0000j</td> <td>           3.0637</td> <td>           0.0000</td>\n",
       "</tr>\n",
       "<tr>\n",
       "  <th>MA.1</th> <td>           1.0000</td> <td>          +0.0000j</td> <td>           1.0000</td> <td>           0.0000</td>\n",
       "</tr>\n",
       "</table>"
      ],
      "text/plain": [
       "<class 'statsmodels.iolib.summary.Summary'>\n",
       "\"\"\"\n",
       "                              ARMA Model Results                              \n",
       "==============================================================================\n",
       "Dep. Variable:                    CPI   No. Observations:                  157\n",
       "Model:                     ARMA(2, 1)   Log Likelihood                -148.966\n",
       "Method:                       css-mle   S.D. of innovations              0.621\n",
       "Date:                Mon, 16 Mar 2020   AIC                            307.933\n",
       "Time:                        15:55:07   BIC                            323.214\n",
       "Sample:                             0   HQIC                           314.139\n",
       "                                                                              \n",
       "==============================================================================\n",
       "                 coef    std err          z      P>|z|      [0.025      0.975]\n",
       "------------------------------------------------------------------------------\n",
       "const        100.2517      0.018   5622.142      0.000     100.217     100.287\n",
       "ar.L1.CPI      1.2533      0.077     16.224      0.000       1.102       1.405\n",
       "ar.L2.CPI     -0.3025      0.080     -3.802      0.000      -0.458      -0.147\n",
       "ma.L1.CPI     -1.0000      0.020    -50.179      0.000      -1.039      -0.961\n",
       "                                    Roots                                    \n",
       "=============================================================================\n",
       "                  Real          Imaginary           Modulus         Frequency\n",
       "-----------------------------------------------------------------------------\n",
       "AR.1            1.0789           +0.0000j            1.0789            0.0000\n",
       "AR.2            3.0637           +0.0000j            3.0637            0.0000\n",
       "MA.1            1.0000           +0.0000j            1.0000            0.0000\n",
       "-----------------------------------------------------------------------------\n",
       "\"\"\""
      ]
     },
     "execution_count": 19,
     "metadata": {},
     "output_type": "execute_result"
    }
   ],
   "source": [
    "model3=arima_model.ARIMA(CPItrain,order=(2,0,1)).fit()\n",
    "model3.summary()"
   ]
  },
  {
   "cell_type": "code",
   "execution_count": 20,
   "metadata": {},
   "outputs": [
    {
     "name": "stderr",
     "output_type": "stream",
     "text": [
      "/Users/quan/anaconda3/lib/python3.6/site-packages/statsmodels/tsa/base/tsa_model.py:225: ValueWarning: A date index has been provided, but it has no associated frequency information and so will be ignored when e.g. forecasting.\n",
      "  ' ignored when e.g. forecasting.', ValueWarning)\n"
     ]
    },
    {
     "data": {
      "text/html": [
       "<table class=\"simpletable\">\n",
       "<caption>ARMA Model Results</caption>\n",
       "<tr>\n",
       "  <th>Dep. Variable:</th>        <td>CPI</td>       <th>  No. Observations:  </th>    <td>157</td>  \n",
       "</tr>\n",
       "<tr>\n",
       "  <th>Model:</th>            <td>ARMA(2, 2)</td>    <th>  Log Likelihood     </th> <td>-148.635</td>\n",
       "</tr>\n",
       "<tr>\n",
       "  <th>Method:</th>             <td>css-mle</td>     <th>  S.D. of innovations</th>   <td>0.623</td> \n",
       "</tr>\n",
       "<tr>\n",
       "  <th>Date:</th>          <td>Mon, 16 Mar 2020</td> <th>  AIC                </th>  <td>309.271</td>\n",
       "</tr>\n",
       "<tr>\n",
       "  <th>Time:</th>              <td>15:55:12</td>     <th>  BIC                </th>  <td>327.608</td>\n",
       "</tr>\n",
       "<tr>\n",
       "  <th>Sample:</th>                <td>0</td>        <th>  HQIC               </th>  <td>316.718</td>\n",
       "</tr>\n",
       "<tr>\n",
       "  <th></th>                       <td> </td>        <th>                     </th>     <td> </td>   \n",
       "</tr>\n",
       "</table>\n",
       "<table class=\"simpletable\">\n",
       "<tr>\n",
       "      <td></td>         <th>coef</th>     <th>std err</th>      <th>z</th>      <th>P>|z|</th>  <th>[0.025</th>    <th>0.975]</th>  \n",
       "</tr>\n",
       "<tr>\n",
       "  <th>const</th>     <td>  100.2357</td> <td>    0.059</td> <td> 1699.235</td> <td> 0.000</td> <td>  100.120</td> <td>  100.351</td>\n",
       "</tr>\n",
       "<tr>\n",
       "  <th>ar.L1.CPI</th> <td>   -0.2014</td> <td>    0.196</td> <td>   -1.025</td> <td> 0.307</td> <td>   -0.586</td> <td>    0.184</td>\n",
       "</tr>\n",
       "<tr>\n",
       "  <th>ar.L2.CPI</th> <td>   -0.6594</td> <td>    0.134</td> <td>   -4.918</td> <td> 0.000</td> <td>   -0.922</td> <td>   -0.397</td>\n",
       "</tr>\n",
       "<tr>\n",
       "  <th>ma.L1.CPI</th> <td>    0.4404</td> <td>    0.164</td> <td>    2.680</td> <td> 0.008</td> <td>    0.118</td> <td>    0.762</td>\n",
       "</tr>\n",
       "<tr>\n",
       "  <th>ma.L2.CPI</th> <td>    0.7684</td> <td>    0.143</td> <td>    5.357</td> <td> 0.000</td> <td>    0.487</td> <td>    1.050</td>\n",
       "</tr>\n",
       "</table>\n",
       "<table class=\"simpletable\">\n",
       "<caption>Roots</caption>\n",
       "<tr>\n",
       "    <td></td>   <th>            Real</th>  <th>         Imaginary</th> <th>         Modulus</th>  <th>        Frequency</th>\n",
       "</tr>\n",
       "<tr>\n",
       "  <th>AR.1</th> <td>          -0.1527</td> <td>          -1.2219j</td> <td>           1.2314</td> <td>          -0.2698</td>\n",
       "</tr>\n",
       "<tr>\n",
       "  <th>AR.2</th> <td>          -0.1527</td> <td>          +1.2219j</td> <td>           1.2314</td> <td>           0.2698</td>\n",
       "</tr>\n",
       "<tr>\n",
       "  <th>MA.1</th> <td>          -0.2866</td> <td>          -1.1042j</td> <td>           1.1408</td> <td>          -0.2904</td>\n",
       "</tr>\n",
       "<tr>\n",
       "  <th>MA.2</th> <td>          -0.2866</td> <td>          +1.1042j</td> <td>           1.1408</td> <td>           0.2904</td>\n",
       "</tr>\n",
       "</table>"
      ],
      "text/plain": [
       "<class 'statsmodels.iolib.summary.Summary'>\n",
       "\"\"\"\n",
       "                              ARMA Model Results                              \n",
       "==============================================================================\n",
       "Dep. Variable:                    CPI   No. Observations:                  157\n",
       "Model:                     ARMA(2, 2)   Log Likelihood                -148.635\n",
       "Method:                       css-mle   S.D. of innovations              0.623\n",
       "Date:                Mon, 16 Mar 2020   AIC                            309.271\n",
       "Time:                        15:55:12   BIC                            327.608\n",
       "Sample:                             0   HQIC                           316.718\n",
       "                                                                              \n",
       "==============================================================================\n",
       "                 coef    std err          z      P>|z|      [0.025      0.975]\n",
       "------------------------------------------------------------------------------\n",
       "const        100.2357      0.059   1699.235      0.000     100.120     100.351\n",
       "ar.L1.CPI     -0.2014      0.196     -1.025      0.307      -0.586       0.184\n",
       "ar.L2.CPI     -0.6594      0.134     -4.918      0.000      -0.922      -0.397\n",
       "ma.L1.CPI      0.4404      0.164      2.680      0.008       0.118       0.762\n",
       "ma.L2.CPI      0.7684      0.143      5.357      0.000       0.487       1.050\n",
       "                                    Roots                                    \n",
       "=============================================================================\n",
       "                  Real          Imaginary           Modulus         Frequency\n",
       "-----------------------------------------------------------------------------\n",
       "AR.1           -0.1527           -1.2219j            1.2314           -0.2698\n",
       "AR.2           -0.1527           +1.2219j            1.2314            0.2698\n",
       "MA.1           -0.2866           -1.1042j            1.1408           -0.2904\n",
       "MA.2           -0.2866           +1.1042j            1.1408            0.2904\n",
       "-----------------------------------------------------------------------------\n",
       "\"\"\""
      ]
     },
     "execution_count": 20,
     "metadata": {},
     "output_type": "execute_result"
    }
   ],
   "source": [
    "model4=arima_model.ARIMA(CPItrain,order=(2,0,2)).fit()\n",
    "model4.summary()\n"
   ]
  },
  {
   "cell_type": "code",
   "execution_count": 21,
   "metadata": {},
   "outputs": [
    {
     "name": "stderr",
     "output_type": "stream",
     "text": [
      "/Users/quan/anaconda3/lib/python3.6/site-packages/statsmodels/tsa/base/tsa_model.py:225: ValueWarning: A date index has been provided, but it has no associated frequency information and so will be ignored when e.g. forecasting.\n",
      "  ' ignored when e.g. forecasting.', ValueWarning)\n",
      "/Users/quan/anaconda3/lib/python3.6/site-packages/statsmodels/base/model.py:488: HessianInversionWarning: Inverting hessian failed, no bse or cov_params available\n",
      "  'available', HessianInversionWarning)\n"
     ]
    },
    {
     "data": {
      "text/html": [
       "<table class=\"simpletable\">\n",
       "<caption>ARMA Model Results</caption>\n",
       "<tr>\n",
       "  <th>Dep. Variable:</th>        <td>CPI</td>       <th>  No. Observations:  </th>    <td>157</td>  \n",
       "</tr>\n",
       "<tr>\n",
       "  <th>Model:</th>            <td>ARMA(3, 2)</td>    <th>  Log Likelihood     </th> <td>-147.248</td>\n",
       "</tr>\n",
       "<tr>\n",
       "  <th>Method:</th>             <td>css-mle</td>     <th>  S.D. of innovations</th>   <td>0.611</td> \n",
       "</tr>\n",
       "<tr>\n",
       "  <th>Date:</th>          <td>Mon, 16 Mar 2020</td> <th>  AIC                </th>  <td>308.496</td>\n",
       "</tr>\n",
       "<tr>\n",
       "  <th>Time:</th>              <td>15:55:19</td>     <th>  BIC                </th>  <td>329.889</td>\n",
       "</tr>\n",
       "<tr>\n",
       "  <th>Sample:</th>                <td>0</td>        <th>  HQIC               </th>  <td>317.184</td>\n",
       "</tr>\n",
       "<tr>\n",
       "  <th></th>                       <td> </td>        <th>                     </th>     <td> </td>   \n",
       "</tr>\n",
       "</table>\n",
       "<table class=\"simpletable\">\n",
       "<tr>\n",
       "      <td></td>         <th>coef</th>     <th>std err</th>      <th>z</th>      <th>P>|z|</th>  <th>[0.025</th>    <th>0.975]</th>  \n",
       "</tr>\n",
       "<tr>\n",
       "  <th>const</th>     <td>  100.2512</td> <td>    0.018</td> <td> 5467.956</td> <td> 0.000</td> <td>  100.215</td> <td>  100.287</td>\n",
       "</tr>\n",
       "<tr>\n",
       "  <th>ar.L1.CPI</th> <td>    0.2940</td> <td>    0.078</td> <td>    3.754</td> <td> 0.000</td> <td>    0.141</td> <td>    0.448</td>\n",
       "</tr>\n",
       "<tr>\n",
       "  <th>ar.L2.CPI</th> <td>    0.8724</td> <td>    0.046</td> <td>   18.999</td> <td> 0.000</td> <td>    0.782</td> <td>    0.962</td>\n",
       "</tr>\n",
       "<tr>\n",
       "  <th>ar.L3.CPI</th> <td>   -0.2595</td> <td>    0.081</td> <td>   -3.188</td> <td> 0.002</td> <td>   -0.419</td> <td>   -0.100</td>\n",
       "</tr>\n",
       "<tr>\n",
       "  <th>ma.L1.CPI</th> <td> 7.656e-09</td> <td>    0.029</td> <td> 2.66e-07</td> <td> 1.000</td> <td>   -0.056</td> <td>    0.056</td>\n",
       "</tr>\n",
       "<tr>\n",
       "  <th>ma.L2.CPI</th> <td>   -1.0000</td> <td>    0.029</td> <td>  -34.730</td> <td> 0.000</td> <td>   -1.056</td> <td>   -0.944</td>\n",
       "</tr>\n",
       "</table>\n",
       "<table class=\"simpletable\">\n",
       "<caption>Roots</caption>\n",
       "<tr>\n",
       "    <td></td>   <th>            Real</th>  <th>         Imaginary</th> <th>         Modulus</th>  <th>        Frequency</th>\n",
       "</tr>\n",
       "<tr>\n",
       "  <th>AR.1</th> <td>          -1.0692</td> <td>          +0.0000j</td> <td>           1.0692</td> <td>           0.5000</td>\n",
       "</tr>\n",
       "<tr>\n",
       "  <th>AR.2</th> <td>           1.0735</td> <td>          +0.0000j</td> <td>           1.0735</td> <td>           0.0000</td>\n",
       "</tr>\n",
       "<tr>\n",
       "  <th>AR.3</th> <td>           3.3576</td> <td>          +0.0000j</td> <td>           3.3576</td> <td>           0.0000</td>\n",
       "</tr>\n",
       "<tr>\n",
       "  <th>MA.1</th> <td>          -1.0000</td> <td>          +0.0000j</td> <td>           1.0000</td> <td>           0.5000</td>\n",
       "</tr>\n",
       "<tr>\n",
       "  <th>MA.2</th> <td>           1.0000</td> <td>          +0.0000j</td> <td>           1.0000</td> <td>           0.0000</td>\n",
       "</tr>\n",
       "</table>"
      ],
      "text/plain": [
       "<class 'statsmodels.iolib.summary.Summary'>\n",
       "\"\"\"\n",
       "                              ARMA Model Results                              \n",
       "==============================================================================\n",
       "Dep. Variable:                    CPI   No. Observations:                  157\n",
       "Model:                     ARMA(3, 2)   Log Likelihood                -147.248\n",
       "Method:                       css-mle   S.D. of innovations              0.611\n",
       "Date:                Mon, 16 Mar 2020   AIC                            308.496\n",
       "Time:                        15:55:19   BIC                            329.889\n",
       "Sample:                             0   HQIC                           317.184\n",
       "                                                                              \n",
       "==============================================================================\n",
       "                 coef    std err          z      P>|z|      [0.025      0.975]\n",
       "------------------------------------------------------------------------------\n",
       "const        100.2512      0.018   5467.956      0.000     100.215     100.287\n",
       "ar.L1.CPI      0.2940      0.078      3.754      0.000       0.141       0.448\n",
       "ar.L2.CPI      0.8724      0.046     18.999      0.000       0.782       0.962\n",
       "ar.L3.CPI     -0.2595      0.081     -3.188      0.002      -0.419      -0.100\n",
       "ma.L1.CPI   7.656e-09      0.029   2.66e-07      1.000      -0.056       0.056\n",
       "ma.L2.CPI     -1.0000      0.029    -34.730      0.000      -1.056      -0.944\n",
       "                                    Roots                                    \n",
       "=============================================================================\n",
       "                  Real          Imaginary           Modulus         Frequency\n",
       "-----------------------------------------------------------------------------\n",
       "AR.1           -1.0692           +0.0000j            1.0692            0.5000\n",
       "AR.2            1.0735           +0.0000j            1.0735            0.0000\n",
       "AR.3            3.3576           +0.0000j            3.3576            0.0000\n",
       "MA.1           -1.0000           +0.0000j            1.0000            0.5000\n",
       "MA.2            1.0000           +0.0000j            1.0000            0.0000\n",
       "-----------------------------------------------------------------------------\n",
       "\"\"\""
      ]
     },
     "execution_count": 21,
     "metadata": {},
     "output_type": "execute_result"
    }
   ],
   "source": [
    "model5=arima_model.ARIMA(CPItrain,order=(3,0,2)).fit()\n",
    "model5.summary()"
   ]
  },
  {
   "cell_type": "code",
   "execution_count": 23,
   "metadata": {},
   "outputs": [],
   "source": [
    "ABICpq = [{\"(p,q)\":'(1,1)',\"模型\":\"mod1\", \"AIC值\":308.678, \"BIC值\":320.903},\n",
    "          {\"(p,q)\":'(1,2)',\"模型\":\"mod2\", \"AIC值\":310.521, \"BIC值\":325.802},\n",
    "          {\"(p,q)\":'(2,1)',\"模型\":\"mod3\", \"AIC值\":307.933, \"BIC值\":323.214},\n",
    "         {\"(p,q)\":'(2,2)',\"模型\":\"mod4\", \"AIC值\":309.271, \"BIC值\":327.608},\n",
    "         {\"(p,q)\":'(3,1)',\"模型\":\"mod5\", \"AIC值\":308.496, \"BIC值\":317.184}]\n",
    "ABICpq_df = pd.DataFrame(ABICpq)"
   ]
  },
  {
   "cell_type": "code",
   "execution_count": 24,
   "metadata": {},
   "outputs": [
    {
     "data": {
      "text/html": [
       "<div>\n",
       "<style scoped>\n",
       "    .dataframe tbody tr th:only-of-type {\n",
       "        vertical-align: middle;\n",
       "    }\n",
       "\n",
       "    .dataframe tbody tr th {\n",
       "        vertical-align: top;\n",
       "    }\n",
       "\n",
       "    .dataframe thead th {\n",
       "        text-align: right;\n",
       "    }\n",
       "</style>\n",
       "<table border=\"1\" class=\"dataframe\">\n",
       "  <thead>\n",
       "    <tr style=\"text-align: right;\">\n",
       "      <th></th>\n",
       "      <th>(p,q)</th>\n",
       "      <th>AIC值</th>\n",
       "      <th>BIC值</th>\n",
       "      <th>模型</th>\n",
       "    </tr>\n",
       "  </thead>\n",
       "  <tbody>\n",
       "    <tr>\n",
       "      <th>0</th>\n",
       "      <td>(1,1)</td>\n",
       "      <td>308.678</td>\n",
       "      <td>320.903</td>\n",
       "      <td>mod1</td>\n",
       "    </tr>\n",
       "    <tr>\n",
       "      <th>1</th>\n",
       "      <td>(1,2)</td>\n",
       "      <td>310.521</td>\n",
       "      <td>325.802</td>\n",
       "      <td>mod2</td>\n",
       "    </tr>\n",
       "    <tr>\n",
       "      <th>2</th>\n",
       "      <td>(2,1)</td>\n",
       "      <td>307.933</td>\n",
       "      <td>323.214</td>\n",
       "      <td>mod3</td>\n",
       "    </tr>\n",
       "    <tr>\n",
       "      <th>3</th>\n",
       "      <td>(2,2)</td>\n",
       "      <td>309.271</td>\n",
       "      <td>327.608</td>\n",
       "      <td>mod4</td>\n",
       "    </tr>\n",
       "    <tr>\n",
       "      <th>4</th>\n",
       "      <td>(3,1)</td>\n",
       "      <td>308.496</td>\n",
       "      <td>317.184</td>\n",
       "      <td>mod5</td>\n",
       "    </tr>\n",
       "  </tbody>\n",
       "</table>\n",
       "</div>"
      ],
      "text/plain": [
       "   (p,q)     AIC值     BIC值    模型\n",
       "0  (1,1)  308.678  320.903  mod1\n",
       "1  (1,2)  310.521  325.802  mod2\n",
       "2  (2,1)  307.933  323.214  mod3\n",
       "3  (2,2)  309.271  327.608  mod4\n",
       "4  (3,1)  308.496  317.184  mod5"
      ]
     },
     "execution_count": 24,
     "metadata": {},
     "output_type": "execute_result"
    }
   ],
   "source": [
    "ABICpq_df"
   ]
  },
  {
   "cell_type": "markdown",
   "metadata": {},
   "source": [
    "ARMA(2,1)的AIC值為最小，故模型確定為ARMA(2,1)"
   ]
  },
  {
   "cell_type": "markdown",
   "metadata": {},
   "source": [
    "3.模型診斷"
   ]
  },
  {
   "cell_type": "markdown",
   "metadata": {},
   "source": [
    "對模型進行評價係數顯著性的檢定，殘差序列是否為白雜訊的檢定。\n",
    "如果殘差序列是白雜訊，則說明模型已充分提取序列的資訊。我們無法再透過調整模型從資料中抓取更多的資訊，因而模型的建立是成功的。\n",
    "如果殘差序列非白雜訊，則說明模型不完善且須對其進行修正。"
   ]
  },
  {
   "cell_type": "code",
   "execution_count": 25,
   "metadata": {},
   "outputs": [
    {
     "data": {
      "text/html": [
       "<div>\n",
       "<style scoped>\n",
       "    .dataframe tbody tr th:only-of-type {\n",
       "        vertical-align: middle;\n",
       "    }\n",
       "\n",
       "    .dataframe tbody tr th {\n",
       "        vertical-align: top;\n",
       "    }\n",
       "\n",
       "    .dataframe thead th {\n",
       "        text-align: right;\n",
       "    }\n",
       "</style>\n",
       "<table border=\"1\" class=\"dataframe\">\n",
       "  <thead>\n",
       "    <tr style=\"text-align: right;\">\n",
       "      <th></th>\n",
       "      <th>0</th>\n",
       "      <th>1</th>\n",
       "    </tr>\n",
       "  </thead>\n",
       "  <tbody>\n",
       "    <tr>\n",
       "      <th>const</th>\n",
       "      <td>100.216756</td>\n",
       "      <td>100.286655</td>\n",
       "    </tr>\n",
       "    <tr>\n",
       "      <th>ar.L1.CPI</th>\n",
       "      <td>1.101874</td>\n",
       "      <td>1.404685</td>\n",
       "    </tr>\n",
       "    <tr>\n",
       "      <th>ar.L2.CPI</th>\n",
       "      <td>-0.458491</td>\n",
       "      <td>-0.146583</td>\n",
       "    </tr>\n",
       "    <tr>\n",
       "      <th>ma.L1.CPI</th>\n",
       "      <td>-1.039059</td>\n",
       "      <td>-0.960941</td>\n",
       "    </tr>\n",
       "  </tbody>\n",
       "</table>\n",
       "</div>"
      ],
      "text/plain": [
       "                    0           1\n",
       "const      100.216756  100.286655\n",
       "ar.L1.CPI    1.101874    1.404685\n",
       "ar.L2.CPI   -0.458491   -0.146583\n",
       "ma.L1.CPI   -1.039059   -0.960941"
      ]
     },
     "execution_count": 25,
     "metadata": {},
     "output_type": "execute_result"
    }
   ],
   "source": [
    "#計算模型中係數的信賴區間\n",
    "model3.conf_int()"
   ]
  },
  {
   "cell_type": "markdown",
   "metadata": {},
   "source": [
    "可以看到所有係數的信賴區間都不包含0，因此我們可以說在5%的信心水準下，\n",
    "所有係數都是顯著的。"
   ]
  },
  {
   "cell_type": "code",
   "execution_count": 26,
   "metadata": {},
   "outputs": [
    {
     "data": {
      "image/png": "[encoded data removed]",
      "text/plain": [
       "<Figure size 432x288 with 1 Axes>"
      ]
     },
     "execution_count": 26,
     "metadata": {},
     "output_type": "execute_result"
    },
    {
     "data": {
      "image/png": "[encoded data removed]",
      "text/plain": [
       "<Figure size 432x288 with 1 Axes>"
      ]
     },
     "metadata": {},
     "output_type": "display_data"
    },
    {
     "data": {
      "image/png": "[encoded data removed]",
      "text/plain": [
       "<Figure size 432x288 with 1 Axes>"
      ]
     },
     "metadata": {},
     "output_type": "display_data"
    }
   ],
   "source": [
    "#對殘差序列的純隨機性的檢定\n",
    "#繪製時間序列模擬的診斷圖\n",
    "stdresid=model3.resid/math.sqrt(model3.sigma2)\n",
    "plt.plot(stdresid)\n",
    "plot_acf(stdresid,lags=20)"
   ]
  },
  {
   "cell_type": "code",
   "execution_count": 31,
   "metadata": {},
   "outputs": [
    {
     "data": {
      "text/plain": [
       "0.002646932175117789"
      ]
     },
     "execution_count": 31,
     "metadata": {},
     "output_type": "execute_result"
    }
   ],
   "source": [
    "LjungBox=stattools.q_stat(stattools.acf(stdresid)[1:13],len(stdresid))\n",
    "LjungBox[1][-1]"
   ]
  },
  {
   "cell_type": "code",
   "execution_count": 32,
   "metadata": {},
   "outputs": [
    {
     "data": {
      "text/plain": [
       "0.0008835831410398088"
      ]
     },
     "execution_count": 32,
     "metadata": {},
     "output_type": "execute_result"
    }
   ],
   "source": [
    "#增加Ljung-Box檢定的落後階數\n",
    "LjungBox=stattools.q_stat(stattools.acf(stdresid)[1:20],len(stdresid))\n",
    "LjungBox[1][-1]"
   ]
  },
  {
   "cell_type": "code",
   "execution_count": 33,
   "metadata": {},
   "outputs": [
    {
     "data": {
      "image/png": "[encoded data removed]",
      "text/plain": [
       "<Figure size 432x288 with 1 Axes>"
      ]
     },
     "execution_count": 33,
     "metadata": {},
     "output_type": "execute_result"
    },
    {
     "data": {
      "image/png": "[encoded data removed]",
      "text/plain": [
       "<Figure size 432x288 with 1 Axes>"
      ]
     },
     "metadata": {},
     "output_type": "display_data"
    }
   ],
   "source": [
    "#繪製最大落後階數為40的自相關係數圖\n",
    "plot_acf(stdresid,lags=40)"
   ]
  },
  {
   "cell_type": "markdown",
   "metadata": {},
   "source": [
    "殘差基本上在+-3之間，沒有偏差值。但是在ACF圖中，第11階和第12階的字將關係數是顯著的。\n",
    "因此，無法確定殘差是白雜訊序列。因此增加Ljung-Box檢定的落後階數。"
   ]
  },
  {
   "cell_type": "markdown",
   "metadata": {},
   "source": [
    "在12階之後，檢定的p值都小於5%。因此模型的殘差並不是一個白雜訊序列。\n",
    "如果將自相關係數圖的最大落後階數設為40，可以明顯地看到每隔12階自相關係數就會變得顯著。結果表明模型並沒有很好的擬合原資料，需要一個季節性ARIMA模型。"
   ]
  },
  {
   "cell_type": "markdown",
   "metadata": {},
   "source": [
    "4.運用模型進行預測"
   ]
  },
  {
   "cell_type": "markdown",
   "metadata": {},
   "source": [
    "用forcast()函數基於以上估計的模型對未來的序列值進行預測。"
   ]
  },
  {
   "cell_type": "code",
   "execution_count": 34,
   "metadata": {},
   "outputs": [
    {
     "data": {
      "text/plain": [
       "array([100.27850924, 100.21017984, 100.19155315])"
      ]
     },
     "execution_count": 34,
     "metadata": {},
     "output_type": "execute_result"
    }
   ],
   "source": [
    "#用model3 預測未來3期的CPI\n",
    "model3.forecast(3)[0]"
   ]
  },
  {
   "cell_type": "markdown",
   "metadata": {},
   "source": [
    "透過程式碼可得知，2014年3月4月5月的月度CPI預測值分別為\n",
    "100.27850928, 100.21017991, 100.19155321。\n",
    "為了比較預測結果，我們可以檢視原資料集中2014年3月4月5月的月度環比CPI的實際值。"
   ]
  },
  {
   "cell_type": "code",
   "execution_count": 35,
   "metadata": {},
   "outputs": [
    {
     "data": {
      "text/html": [
       "<div>\n",
       "<style scoped>\n",
       "    .dataframe tbody tr th:only-of-type {\n",
       "        vertical-align: middle;\n",
       "    }\n",
       "\n",
       "    .dataframe tbody tr th {\n",
       "        vertical-align: top;\n",
       "    }\n",
       "\n",
       "    .dataframe thead th {\n",
       "        text-align: right;\n",
       "    }\n",
       "</style>\n",
       "<table border=\"1\" class=\"dataframe\">\n",
       "  <thead>\n",
       "    <tr style=\"text-align: right;\">\n",
       "      <th></th>\n",
       "      <th>CPI</th>\n",
       "    </tr>\n",
       "    <tr>\n",
       "      <th>time</th>\n",
       "      <th></th>\n",
       "    </tr>\n",
       "  </thead>\n",
       "  <tbody>\n",
       "    <tr>\n",
       "      <th>2014-03-01</th>\n",
       "      <td>99.5</td>\n",
       "    </tr>\n",
       "    <tr>\n",
       "      <th>2014-04-01</th>\n",
       "      <td>99.7</td>\n",
       "    </tr>\n",
       "    <tr>\n",
       "      <th>2014-05-01</th>\n",
       "      <td>100.1</td>\n",
       "    </tr>\n",
       "  </tbody>\n",
       "</table>\n",
       "</div>"
      ],
      "text/plain": [
       "              CPI\n",
       "time             \n",
       "2014-03-01   99.5\n",
       "2014-04-01   99.7\n",
       "2014-05-01  100.1"
      ]
     },
     "execution_count": 35,
     "metadata": {},
     "output_type": "execute_result"
    }
   ],
   "source": [
    "CPI.head(3)\n",
    "CPItest"
   ]
  },
  {
   "cell_type": "code",
   "execution_count": null,
   "metadata": {},
   "outputs": [],
   "source": []
  }
 ],
 "metadata": {
  "kernelspec": {
   "display_name": "Python 3",
   "language": "python",
   "name": "python3"
  },
  "language_info": {
   "codemirror_mode": {
    "name": "ipython",
    "version": 3
   },
   "file_extension": ".py",
   "mimetype": "text/x-python",
   "name": "python",
   "nbconvert_exporter": "python",
   "pygments_lexer": "ipython3",
   "version": "3.6.5"
  }
 },
 "nbformat": 4,
 "nbformat_minor": 2
}
