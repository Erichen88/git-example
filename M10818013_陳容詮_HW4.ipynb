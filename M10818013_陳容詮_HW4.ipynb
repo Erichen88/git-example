{
 "cells": [
  {
   "cell_type": "markdown",
   "metadata": {},
   "source": [
    "## <font color=red>注意：所有技術指標不可以使用網路上找到的Package（比如：TA-Lib），請自行撰寫。</font>"
   ]
  },
  {
   "cell_type": "markdown",
   "metadata": {},
   "source": [
    "### 1. \n",
    "讀取 moodle中上傳的兩個 Excel檔案（TSMC.xlsx以及Delta.xlsx），請勿改Excel檔名<br>\n",
    "檢視兩者的資料"
   ]
  },
  {
   "cell_type": "code",
   "execution_count": 1,
   "metadata": {},
   "outputs": [],
   "source": [
    "import pandas as pd\n",
    "import numpy as np\n",
    "import matplotlib.pyplot as plt"
   ]
  },
  {
   "cell_type": "code",
   "execution_count": 2,
   "metadata": {},
   "outputs": [
    {
     "data": {
      "text/html": [
       "<div>\n",
       "<style scoped>\n",
       "    .dataframe tbody tr th:only-of-type {\n",
       "        vertical-align: middle;\n",
       "    }\n",
       "\n",
       "    .dataframe tbody tr th {\n",
       "        vertical-align: top;\n",
       "    }\n",
       "\n",
       "    .dataframe thead th {\n",
       "        text-align: right;\n",
       "    }\n",
       "</style>\n",
       "<table border=\"1\" class=\"dataframe\">\n",
       "  <thead>\n",
       "    <tr style=\"text-align: right;\">\n",
       "      <th></th>\n",
       "      <th>Date</th>\n",
       "      <th>Open</th>\n",
       "      <th>High</th>\n",
       "      <th>Low</th>\n",
       "      <th>Close</th>\n",
       "    </tr>\n",
       "  </thead>\n",
       "  <tbody>\n",
       "    <tr>\n",
       "      <th>0</th>\n",
       "      <td>2019/11/21</td>\n",
       "      <td>309.5</td>\n",
       "      <td>311.0</td>\n",
       "      <td>307.0</td>\n",
       "      <td>311.0</td>\n",
       "    </tr>\n",
       "    <tr>\n",
       "      <th>1</th>\n",
       "      <td>2019/11/20</td>\n",
       "      <td>314.0</td>\n",
       "      <td>314.0</td>\n",
       "      <td>312.0</td>\n",
       "      <td>313.5</td>\n",
       "    </tr>\n",
       "    <tr>\n",
       "      <th>2</th>\n",
       "      <td>2019/11/19</td>\n",
       "      <td>312.5</td>\n",
       "      <td>315.0</td>\n",
       "      <td>311.0</td>\n",
       "      <td>315.0</td>\n",
       "    </tr>\n",
       "    <tr>\n",
       "      <th>3</th>\n",
       "      <td>2019/11/18</td>\n",
       "      <td>308.5</td>\n",
       "      <td>311.0</td>\n",
       "      <td>307.0</td>\n",
       "      <td>311.0</td>\n",
       "    </tr>\n",
       "    <tr>\n",
       "      <th>4</th>\n",
       "      <td>2019/11/15</td>\n",
       "      <td>305.5</td>\n",
       "      <td>307.5</td>\n",
       "      <td>304.5</td>\n",
       "      <td>307.0</td>\n",
       "    </tr>\n",
       "  </tbody>\n",
       "</table>\n",
       "</div>"
      ],
      "text/plain": [
       "         Date  Open    High    Low  Close\n",
       "0  2019/11/21  309.5  311.0  307.0  311.0\n",
       "1  2019/11/20  314.0  314.0  312.0  313.5\n",
       "2  2019/11/19  312.5  315.0  311.0  315.0\n",
       "3  2019/11/18  308.5  311.0  307.0  311.0\n",
       "4  2019/11/15  305.5  307.5  304.5  307.0"
      ]
     },
     "execution_count": 2,
     "metadata": {},
     "output_type": "execute_result"
    }
   ],
   "source": [
    "df1=pd.read_excel('TSMC.xlsx')\n",
    "df1.head()"
   ]
  },
  {
   "cell_type": "code",
   "execution_count": 3,
   "metadata": {},
   "outputs": [
    {
     "data": {
      "text/html": [
       "<div>\n",
       "<style scoped>\n",
       "    .dataframe tbody tr th:only-of-type {\n",
       "        vertical-align: middle;\n",
       "    }\n",
       "\n",
       "    .dataframe tbody tr th {\n",
       "        vertical-align: top;\n",
       "    }\n",
       "\n",
       "    .dataframe thead th {\n",
       "        text-align: right;\n",
       "    }\n",
       "</style>\n",
       "<table border=\"1\" class=\"dataframe\">\n",
       "  <thead>\n",
       "    <tr style=\"text-align: right;\">\n",
       "      <th></th>\n",
       "      <th>Date</th>\n",
       "      <th>Open</th>\n",
       "      <th>High</th>\n",
       "      <th>Low</th>\n",
       "      <th>Close</th>\n",
       "    </tr>\n",
       "  </thead>\n",
       "  <tbody>\n",
       "    <tr>\n",
       "      <th>0</th>\n",
       "      <td>2019/11/21</td>\n",
       "      <td>135.5</td>\n",
       "      <td>137.5</td>\n",
       "      <td>135.0</td>\n",
       "      <td>137.5</td>\n",
       "    </tr>\n",
       "    <tr>\n",
       "      <th>1</th>\n",
       "      <td>2019/11/20</td>\n",
       "      <td>139.0</td>\n",
       "      <td>139.0</td>\n",
       "      <td>136.5</td>\n",
       "      <td>137.0</td>\n",
       "    </tr>\n",
       "    <tr>\n",
       "      <th>2</th>\n",
       "      <td>2019/11/19</td>\n",
       "      <td>137.0</td>\n",
       "      <td>139.5</td>\n",
       "      <td>136.0</td>\n",
       "      <td>139.5</td>\n",
       "    </tr>\n",
       "    <tr>\n",
       "      <th>3</th>\n",
       "      <td>2019/11/18</td>\n",
       "      <td>134.0</td>\n",
       "      <td>136.5</td>\n",
       "      <td>134.0</td>\n",
       "      <td>136.5</td>\n",
       "    </tr>\n",
       "    <tr>\n",
       "      <th>4</th>\n",
       "      <td>2019/11/15</td>\n",
       "      <td>134.0</td>\n",
       "      <td>135.0</td>\n",
       "      <td>133.0</td>\n",
       "      <td>133.5</td>\n",
       "    </tr>\n",
       "  </tbody>\n",
       "</table>\n",
       "</div>"
      ],
      "text/plain": [
       "         Date   Open   High    Low  Close\n",
       "0  2019/11/21  135.5  137.5  135.0  137.5\n",
       "1  2019/11/20  139.0  139.0  136.5  137.0\n",
       "2  2019/11/19  137.0  139.5  136.0  139.5\n",
       "3  2019/11/18  134.0  136.5  134.0  136.5\n",
       "4  2019/11/15  134.0  135.0  133.0  133.5"
      ]
     },
     "execution_count": 3,
     "metadata": {},
     "output_type": "execute_result"
    }
   ],
   "source": [
    "df2=pd.read_excel('Delta.xlsx')\n",
    "df2.head()"
   ]
  },
  {
   "cell_type": "markdown",
   "metadata": {},
   "source": [
    "### 2. \n",
    "（1）計算TSMC過去十年的日報酬率以及累計報酬率<br>（2）計算TSMC的5日與10日RSI值，並且繪製RSI和Close的走勢圖<br>（3）計算TSMC的MACD（使用預設12, 26, 9），並且繪製MACD和Close的走勢圖"
   ]
  },
  {
   "cell_type": "code",
   "execution_count": 4,
   "metadata": {},
   "outputs": [
    {
     "data": {
      "text/html": [
       "<div>\n",
       "<style scoped>\n",
       "    .dataframe tbody tr th:only-of-type {\n",
       "        vertical-align: middle;\n",
       "    }\n",
       "\n",
       "    .dataframe tbody tr th {\n",
       "        vertical-align: top;\n",
       "    }\n",
       "\n",
       "    .dataframe thead th {\n",
       "        text-align: right;\n",
       "    }\n",
       "</style>\n",
       "<table border=\"1\" class=\"dataframe\">\n",
       "  <thead>\n",
       "    <tr style=\"text-align: right;\">\n",
       "      <th></th>\n",
       "      <th>Date</th>\n",
       "      <th>Open</th>\n",
       "      <th>High</th>\n",
       "      <th>Low</th>\n",
       "      <th>Close</th>\n",
       "      <th>daily_return(%)</th>\n",
       "    </tr>\n",
       "  </thead>\n",
       "  <tbody>\n",
       "    <tr>\n",
       "      <th>0</th>\n",
       "      <td>2019/11/21</td>\n",
       "      <td>309.5</td>\n",
       "      <td>311.0</td>\n",
       "      <td>307.0</td>\n",
       "      <td>311.0</td>\n",
       "      <td>-0.797448</td>\n",
       "    </tr>\n",
       "    <tr>\n",
       "      <th>1</th>\n",
       "      <td>2019/11/20</td>\n",
       "      <td>314.0</td>\n",
       "      <td>314.0</td>\n",
       "      <td>312.0</td>\n",
       "      <td>313.5</td>\n",
       "      <td>-0.476190</td>\n",
       "    </tr>\n",
       "    <tr>\n",
       "      <th>2</th>\n",
       "      <td>2019/11/19</td>\n",
       "      <td>312.5</td>\n",
       "      <td>315.0</td>\n",
       "      <td>311.0</td>\n",
       "      <td>315.0</td>\n",
       "      <td>1.286174</td>\n",
       "    </tr>\n",
       "    <tr>\n",
       "      <th>3</th>\n",
       "      <td>2019/11/18</td>\n",
       "      <td>308.5</td>\n",
       "      <td>311.0</td>\n",
       "      <td>307.0</td>\n",
       "      <td>311.0</td>\n",
       "      <td>1.302932</td>\n",
       "    </tr>\n",
       "    <tr>\n",
       "      <th>4</th>\n",
       "      <td>2019/11/15</td>\n",
       "      <td>305.5</td>\n",
       "      <td>307.5</td>\n",
       "      <td>304.5</td>\n",
       "      <td>307.0</td>\n",
       "      <td>1.153213</td>\n",
       "    </tr>\n",
       "  </tbody>\n",
       "</table>\n",
       "</div>"
      ],
      "text/plain": [
       "         Date  Open    High    Low  Close  daily_return(%)\n",
       "0  2019/11/21  309.5  311.0  307.0  311.0        -0.797448\n",
       "1  2019/11/20  314.0  314.0  312.0  313.5        -0.476190\n",
       "2  2019/11/19  312.5  315.0  311.0  315.0         1.286174\n",
       "3  2019/11/18  308.5  311.0  307.0  311.0         1.302932\n",
       "4  2019/11/15  305.5  307.5  304.5  307.0         1.153213"
      ]
     },
     "execution_count": 4,
     "metadata": {},
     "output_type": "execute_result"
    }
   ],
   "source": [
    "#(1)日報酬率＝〔(本日收盤價／前一交易日收盤價)－１〕×100\n",
    "for i in range(len(df1.index)-1):\n",
    "    df1.loc[i,'daily_return(%)'] = ((df1.loc[i,'Close']/df1.loc[i+1,'Close'])-1)*100\n",
    "    i+=1\n",
    "df1.head()"
   ]
  },
  {
   "cell_type": "code",
   "execution_count": 5,
   "metadata": {},
   "outputs": [
    {
     "data": {
      "text/html": [
       "<div>\n",
       "<style scoped>\n",
       "    .dataframe tbody tr th:only-of-type {\n",
       "        vertical-align: middle;\n",
       "    }\n",
       "\n",
       "    .dataframe tbody tr th {\n",
       "        vertical-align: top;\n",
       "    }\n",
       "\n",
       "    .dataframe thead th {\n",
       "        text-align: right;\n",
       "    }\n",
       "</style>\n",
       "<table border=\"1\" class=\"dataframe\">\n",
       "  <thead>\n",
       "    <tr style=\"text-align: right;\">\n",
       "      <th></th>\n",
       "      <th>Date</th>\n",
       "      <th>Open</th>\n",
       "      <th>High</th>\n",
       "      <th>Low</th>\n",
       "      <th>Close</th>\n",
       "      <th>daily_return(%)</th>\n",
       "      <th>yearly_return(%)</th>\n",
       "    </tr>\n",
       "  </thead>\n",
       "  <tbody>\n",
       "    <tr>\n",
       "      <th>0</th>\n",
       "      <td>2019/11/21</td>\n",
       "      <td>309.5</td>\n",
       "      <td>311.0</td>\n",
       "      <td>307.0</td>\n",
       "      <td>311.0</td>\n",
       "      <td>-0.797448</td>\n",
       "      <td>387.460815</td>\n",
       "    </tr>\n",
       "    <tr>\n",
       "      <th>1</th>\n",
       "      <td>2019/11/20</td>\n",
       "      <td>314.0</td>\n",
       "      <td>314.0</td>\n",
       "      <td>312.0</td>\n",
       "      <td>313.5</td>\n",
       "      <td>-0.476190</td>\n",
       "      <td>391.379310</td>\n",
       "    </tr>\n",
       "    <tr>\n",
       "      <th>2</th>\n",
       "      <td>2019/11/19</td>\n",
       "      <td>312.5</td>\n",
       "      <td>315.0</td>\n",
       "      <td>311.0</td>\n",
       "      <td>315.0</td>\n",
       "      <td>1.286174</td>\n",
       "      <td>393.730408</td>\n",
       "    </tr>\n",
       "    <tr>\n",
       "      <th>3</th>\n",
       "      <td>2019/11/18</td>\n",
       "      <td>308.5</td>\n",
       "      <td>311.0</td>\n",
       "      <td>307.0</td>\n",
       "      <td>311.0</td>\n",
       "      <td>1.302932</td>\n",
       "      <td>387.460815</td>\n",
       "    </tr>\n",
       "    <tr>\n",
       "      <th>4</th>\n",
       "      <td>2019/11/15</td>\n",
       "      <td>305.5</td>\n",
       "      <td>307.5</td>\n",
       "      <td>304.5</td>\n",
       "      <td>307.0</td>\n",
       "      <td>1.153213</td>\n",
       "      <td>381.191223</td>\n",
       "    </tr>\n",
       "  </tbody>\n",
       "</table>\n",
       "</div>"
      ],
      "text/plain": [
       "         Date  Open    High    Low  Close  daily_return(%)  yearly_return(%)\n",
       "0  2019/11/21  309.5  311.0  307.0  311.0        -0.797448        387.460815\n",
       "1  2019/11/20  314.0  314.0  312.0  313.5        -0.476190        391.379310\n",
       "2  2019/11/19  312.5  315.0  311.0  315.0         1.286174        393.730408\n",
       "3  2019/11/18  308.5  311.0  307.0  311.0         1.302932        387.460815\n",
       "4  2019/11/15  305.5  307.5  304.5  307.0         1.153213        381.191223"
      ]
     },
     "execution_count": 5,
     "metadata": {},
     "output_type": "execute_result"
    }
   ],
   "source": [
    "#(1)累計報酬率 =當時的市價去除以一開始投入的本金再減去 100％ (期末金額-期初本金)/期初本金\n",
    "for i in range(len(df1.index)-1):\n",
    "    df1.loc[i,'yearly_return(%)'] = ((df1.loc[i,'Close']/df1.loc[2213,'Close'])-1)*100\n",
    "    i+=1\n",
    "df1.head()"
   ]
  },
  {
   "cell_type": "code",
   "execution_count": null,
   "metadata": {},
   "outputs": [],
   "source": [
    "#(2)計算TSMC的5日與10日RSI值，並且繪製RSI和Close的走勢圖"
   ]
  },
  {
   "cell_type": "code",
   "execution_count": 6,
   "metadata": {},
   "outputs": [],
   "source": [
    "'''\n",
    "相對強弱指標（Relative Strength Index）。\n",
    "以某段時間，股價”平均漲幅”與”平均跌幅”所計算出來的數值，可看出股價觀測時間內股票價格強勢或弱勢的指標。\n",
    "RSI = (上升平均數/(上升平均數+下跌平均數))×100\n",
    "'''\n",
    "def RSI(num, df):\n",
    "    for i in range(len(df.index)-num):\n",
    "        delta = df.loc[i:i+num-1, 'Close'].values - df.loc[i+1:i+num, 'Close'].values\n",
    "        up = np.sum(delta[delta >= 0])\n",
    "        down = abs(np.sum(delta[delta < 0]))\n",
    "        f = up / (up + down) * 100\n",
    "        df.loc[i, str(num)+'_RSI'] = f"
   ]
  },
  {
   "cell_type": "code",
   "execution_count": 7,
   "metadata": {},
   "outputs": [
    {
     "data": {
      "text/html": [
       "<div>\n",
       "<style scoped>\n",
       "    .dataframe tbody tr th:only-of-type {\n",
       "        vertical-align: middle;\n",
       "    }\n",
       "\n",
       "    .dataframe tbody tr th {\n",
       "        vertical-align: top;\n",
       "    }\n",
       "\n",
       "    .dataframe thead th {\n",
       "        text-align: right;\n",
       "    }\n",
       "</style>\n",
       "<table border=\"1\" class=\"dataframe\">\n",
       "  <thead>\n",
       "    <tr style=\"text-align: right;\">\n",
       "      <th></th>\n",
       "      <th>Date</th>\n",
       "      <th>Open</th>\n",
       "      <th>High</th>\n",
       "      <th>Low</th>\n",
       "      <th>Close</th>\n",
       "      <th>daily_return(%)</th>\n",
       "      <th>yearly_return(%)</th>\n",
       "      <th>5_RSI</th>\n",
       "      <th>10_RSI</th>\n",
       "    </tr>\n",
       "  </thead>\n",
       "  <tbody>\n",
       "    <tr>\n",
       "      <th>0</th>\n",
       "      <td>2019/11/21</td>\n",
       "      <td>309.5</td>\n",
       "      <td>311.0</td>\n",
       "      <td>307.0</td>\n",
       "      <td>311.0</td>\n",
       "      <td>-0.797448</td>\n",
       "      <td>387.460815</td>\n",
       "      <td>74.193548</td>\n",
       "      <td>53.448276</td>\n",
       "    </tr>\n",
       "    <tr>\n",
       "      <th>1</th>\n",
       "      <td>2019/11/20</td>\n",
       "      <td>314.0</td>\n",
       "      <td>314.0</td>\n",
       "      <td>312.0</td>\n",
       "      <td>313.5</td>\n",
       "      <td>-0.476190</td>\n",
       "      <td>391.379310</td>\n",
       "      <td>85.185185</td>\n",
       "      <td>54.385965</td>\n",
       "    </tr>\n",
       "    <tr>\n",
       "      <th>2</th>\n",
       "      <td>2019/11/19</td>\n",
       "      <td>312.5</td>\n",
       "      <td>315.0</td>\n",
       "      <td>311.0</td>\n",
       "      <td>315.0</td>\n",
       "      <td>1.286174</td>\n",
       "      <td>393.730408</td>\n",
       "      <td>88.461538</td>\n",
       "      <td>58.181818</td>\n",
       "    </tr>\n",
       "    <tr>\n",
       "      <th>3</th>\n",
       "      <td>2019/11/18</td>\n",
       "      <td>308.5</td>\n",
       "      <td>311.0</td>\n",
       "      <td>307.0</td>\n",
       "      <td>311.0</td>\n",
       "      <td>1.302932</td>\n",
       "      <td>387.460815</td>\n",
       "      <td>88.461538</td>\n",
       "      <td>57.407407</td>\n",
       "    </tr>\n",
       "    <tr>\n",
       "      <th>4</th>\n",
       "      <td>2019/11/15</td>\n",
       "      <td>305.5</td>\n",
       "      <td>307.5</td>\n",
       "      <td>304.5</td>\n",
       "      <td>307.0</td>\n",
       "      <td>1.153213</td>\n",
       "      <td>381.191223</td>\n",
       "      <td>55.555556</td>\n",
       "      <td>62.903226</td>\n",
       "    </tr>\n",
       "  </tbody>\n",
       "</table>\n",
       "</div>"
      ],
      "text/plain": [
       "         Date  Open    High    Low  Close  daily_return(%)  yearly_return(%)  \\\n",
       "0  2019/11/21  309.5  311.0  307.0  311.0        -0.797448        387.460815   \n",
       "1  2019/11/20  314.0  314.0  312.0  313.5        -0.476190        391.379310   \n",
       "2  2019/11/19  312.5  315.0  311.0  315.0         1.286174        393.730408   \n",
       "3  2019/11/18  308.5  311.0  307.0  311.0         1.302932        387.460815   \n",
       "4  2019/11/15  305.5  307.5  304.5  307.0         1.153213        381.191223   \n",
       "\n",
       "       5_RSI     10_RSI  \n",
       "0  74.193548  53.448276  \n",
       "1  85.185185  54.385965  \n",
       "2  88.461538  58.181818  \n",
       "3  88.461538  57.407407  \n",
       "4  55.555556  62.903226  "
      ]
     },
     "execution_count": 7,
     "metadata": {},
     "output_type": "execute_result"
    }
   ],
   "source": [
    "#(2)計算TSMC的5日與10日RSI值，並且繪製RSI和Close的走勢圖\n",
    "RSI_5=RSI(5, df1)\n",
    "RSI_10=RSI(10, df1)\n",
    "df1.head()"
   ]
  },
  {
   "cell_type": "code",
   "execution_count": 8,
   "metadata": {},
   "outputs": [
    {
     "data": {
      "text/plain": [
       "<matplotlib.legend.Legend at 0x1107249e8>"
      ]
     },
     "execution_count": 8,
     "metadata": {},
     "output_type": "execute_result"
    },
    {
     "data": {
      "image/png": "[encoded data removed]",
      "text/plain": [
       "<Figure size 432x288 with 1 Axes>"
      ]
     },
     "metadata": {},
     "output_type": "display_data"
    }
   ],
   "source": [
    "RSI_5= df1['5_RSI'].values\n",
    "RSI_10= df1['10_RSI'].values\n",
    "plt.plot(RSI_5, label = '5_RSI')\n",
    "plt.plot(RSI_10, label = '10_RSI')\n",
    "plt.legend(loc = 'upper left')"
   ]
  },
  {
   "cell_type": "code",
   "execution_count": 9,
   "metadata": {},
   "outputs": [
    {
     "data": {
      "text/plain": [
       "<matplotlib.legend.Legend at 0x11d28a630>"
      ]
     },
     "execution_count": 9,
     "metadata": {},
     "output_type": "execute_result"
    },
    {
     "data": {
      "image/png": "[encoded data removed]",
      "text/plain": [
       "<Figure size 432x288 with 1 Axes>"
      ]
     },
     "metadata": {},
     "output_type": "display_data"
    }
   ],
   "source": [
    "RSI_5= df1['5_RSI'].values\n",
    "RSI_10= df1['10_RSI'].values\n",
    "Close=df1['Close'][::-1].values\n",
    "plt.plot(RSI_5, label = '5_RSI')\n",
    "plt.plot(RSI_10, label = '10_RSI')\n",
    "plt.plot(Close, label = 'Close')\n",
    "plt.legend(loc = 'upper left')"
   ]
  },
  {
   "cell_type": "code",
   "execution_count": 10,
   "metadata": {},
   "outputs": [],
   "source": [
    "# (3) 計算TSMC的MACD（使用預設12, 26, 9），並且繪製MACD和Close的走勢圖"
   ]
  },
  {
   "cell_type": "code",
   "execution_count": 11,
   "metadata": {},
   "outputs": [
    {
     "data": {
      "text/plain": [
       "' \\nEMA1 = Colse1\\nEMA1是今天的指數移動平均\\nEMA2\\nEMA2是昨天的指數移動平均，依此類推\\nprice1=p1\\nprice1=p1 是今日的價格\\nα\\nα是平滑係數，是小於1的參數。\\nalpha = 2/(N+1) ex n=12\\nEMA1=α×[p1+(1−α)×p2+⋯+(1−α)n−1×pn]\\n'"
      ]
     },
     "execution_count": 11,
     "metadata": {},
     "output_type": "execute_result"
    }
   ],
   "source": [
    "''' \n",
    "EMA1 = Colse1\n",
    "EMA1是今天的指數移動平均\n",
    "EMA2\n",
    "EMA2是昨天的指數移動平均，依此類推\n",
    "price1=p1\n",
    "price1=p1 是今日的價格\n",
    "α\n",
    "α是平滑係數，是小於1的參數。\n",
    "alpha = 2/(N+1) ex n=12\n",
    "EMA1=α×[p1+(1−α)×p2+⋯+(1−α)n−1×pn]\n",
    "'''"
   ]
  },
  {
   "cell_type": "code",
   "execution_count": 12,
   "metadata": {},
   "outputs": [],
   "source": [
    "def EMA(num, data):\n",
    "    result = []\n",
    "    alpha = 2 / (num+1)\n",
    "    weight = alpha * np.logspace(0, num-2, num-1, base = 1-alpha) #1-alpha^0 ~ (1-alpha)^(num-2) 中間有num-1個數\n",
    "    for i in range(len(data)-num+2):\n",
    "        dat = data[i:i+num-1]\n",
    "        result.append(np.dot(weight, dat))\n",
    "    return np.array(result)"
   ]
  },
  {
   "cell_type": "code",
   "execution_count": 13,
   "metadata": {},
   "outputs": [
    {
     "data": {
      "text/html": [
       "<div>\n",
       "<style scoped>\n",
       "    .dataframe tbody tr th:only-of-type {\n",
       "        vertical-align: middle;\n",
       "    }\n",
       "\n",
       "    .dataframe tbody tr th {\n",
       "        vertical-align: top;\n",
       "    }\n",
       "\n",
       "    .dataframe thead th {\n",
       "        text-align: right;\n",
       "    }\n",
       "</style>\n",
       "<table border=\"1\" class=\"dataframe\">\n",
       "  <thead>\n",
       "    <tr style=\"text-align: right;\">\n",
       "      <th></th>\n",
       "      <th>Date</th>\n",
       "      <th>Open</th>\n",
       "      <th>High</th>\n",
       "      <th>Low</th>\n",
       "      <th>Close</th>\n",
       "      <th>daily_return(%)</th>\n",
       "      <th>yearly_return(%)</th>\n",
       "      <th>5_RSI</th>\n",
       "      <th>10_RSI</th>\n",
       "      <th>12_EMA</th>\n",
       "      <th>26_EMA</th>\n",
       "      <th>DIF</th>\n",
       "      <th>MACD</th>\n",
       "    </tr>\n",
       "  </thead>\n",
       "  <tbody>\n",
       "    <tr>\n",
       "      <th>0</th>\n",
       "      <td>2019/11/21</td>\n",
       "      <td>309.5</td>\n",
       "      <td>311.0</td>\n",
       "      <td>307.0</td>\n",
       "      <td>311.0</td>\n",
       "      <td>-0.797448</td>\n",
       "      <td>387.460815</td>\n",
       "      <td>74.193548</td>\n",
       "      <td>53.448276</td>\n",
       "      <td>260.106698</td>\n",
       "      <td>261.078258</td>\n",
       "      <td>-0.971560</td>\n",
       "      <td>-0.673718</td>\n",
       "    </tr>\n",
       "    <tr>\n",
       "      <th>1</th>\n",
       "      <td>2019/11/20</td>\n",
       "      <td>314.0</td>\n",
       "      <td>314.0</td>\n",
       "      <td>312.0</td>\n",
       "      <td>313.5</td>\n",
       "      <td>-0.476190</td>\n",
       "      <td>391.379310</td>\n",
       "      <td>85.185185</td>\n",
       "      <td>54.385965</td>\n",
       "      <td>259.855398</td>\n",
       "      <td>260.513019</td>\n",
       "      <td>-0.657621</td>\n",
       "      <td>-0.588548</td>\n",
       "    </tr>\n",
       "    <tr>\n",
       "      <th>2</th>\n",
       "      <td>2019/11/19</td>\n",
       "      <td>312.5</td>\n",
       "      <td>315.0</td>\n",
       "      <td>311.0</td>\n",
       "      <td>315.0</td>\n",
       "      <td>1.286174</td>\n",
       "      <td>393.730408</td>\n",
       "      <td>88.461538</td>\n",
       "      <td>58.181818</td>\n",
       "      <td>259.089389</td>\n",
       "      <td>259.737605</td>\n",
       "      <td>-0.648216</td>\n",
       "      <td>-0.530766</td>\n",
       "    </tr>\n",
       "    <tr>\n",
       "      <th>3</th>\n",
       "      <td>2019/11/18</td>\n",
       "      <td>308.5</td>\n",
       "      <td>311.0</td>\n",
       "      <td>307.0</td>\n",
       "      <td>311.0</td>\n",
       "      <td>1.302932</td>\n",
       "      <td>387.460815</td>\n",
       "      <td>88.461538</td>\n",
       "      <td>57.407407</td>\n",
       "      <td>257.810070</td>\n",
       "      <td>258.745114</td>\n",
       "      <td>-0.935044</td>\n",
       "      <td>-0.448609</td>\n",
       "    </tr>\n",
       "    <tr>\n",
       "      <th>4</th>\n",
       "      <td>2019/11/15</td>\n",
       "      <td>305.5</td>\n",
       "      <td>307.5</td>\n",
       "      <td>304.5</td>\n",
       "      <td>307.0</td>\n",
       "      <td>1.153213</td>\n",
       "      <td>381.191223</td>\n",
       "      <td>55.555556</td>\n",
       "      <td>62.903226</td>\n",
       "      <td>256.793857</td>\n",
       "      <td>257.952339</td>\n",
       "      <td>-1.158482</td>\n",
       "      <td>-0.278048</td>\n",
       "    </tr>\n",
       "  </tbody>\n",
       "</table>\n",
       "</div>"
      ],
      "text/plain": [
       "         Date  Open    High    Low  Close  daily_return(%)  yearly_return(%)  \\\n",
       "0  2019/11/21  309.5  311.0  307.0  311.0        -0.797448        387.460815   \n",
       "1  2019/11/20  314.0  314.0  312.0  313.5        -0.476190        391.379310   \n",
       "2  2019/11/19  312.5  315.0  311.0  315.0         1.286174        393.730408   \n",
       "3  2019/11/18  308.5  311.0  307.0  311.0         1.302932        387.460815   \n",
       "4  2019/11/15  305.5  307.5  304.5  307.0         1.153213        381.191223   \n",
       "\n",
       "       5_RSI     10_RSI      12_EMA      26_EMA       DIF      MACD  \n",
       "0  74.193548  53.448276  260.106698  261.078258 -0.971560 -0.673718  \n",
       "1  85.185185  54.385965  259.855398  260.513019 -0.657621 -0.588548  \n",
       "2  88.461538  58.181818  259.089389  259.737605 -0.648216 -0.530766  \n",
       "3  88.461538  57.407407  257.810070  258.745114 -0.935044 -0.448609  \n",
       "4  55.555556  62.903226  256.793857  257.952339 -1.158482 -0.278048  "
      ]
     },
     "execution_count": 13,
     "metadata": {},
     "output_type": "execute_result"
    }
   ],
   "source": [
    "#(3)計算TSMC的MACD（使用預設12, 26, 9），並且繪製MACD和Close的走勢圖\n",
    "df1['12_EMA'] = pd.Series(EMA(12, df1['Close']))\n",
    "df1['26_EMA'] = pd.Series(EMA(26, df1['Close']))\n",
    "df1['DIF'] = df1['12_EMA'] - df1['26_EMA']\n",
    "df1['MACD'] = pd.Series(EMA(9, df1['DIF']))\n",
    "df1.head()"
   ]
  },
  {
   "cell_type": "code",
   "execution_count": 14,
   "metadata": {},
   "outputs": [
    {
     "data": {
      "image/png": "[encoded data removed]",
      "text/plain": [
       "<Figure size 432x288 with 1 Axes>"
      ]
     },
     "metadata": {},
     "output_type": "display_data"
    }
   ],
   "source": [
    "#date = df1['Date'].values\n",
    "ema_12 = df1['12_EMA'].values\n",
    "ema_26 = df1['26_EMA'].values\n",
    "plt.plot(ema_12[::-1], label = '12')\n",
    "plt.plot(ema_26[::-1], label = '26')\n",
    "plt.legend(loc = 'upper left')\n",
    "plt.show()"
   ]
  },
  {
   "cell_type": "code",
   "execution_count": 15,
   "metadata": {},
   "outputs": [
    {
     "data": {
      "image/png": "[encoded data removed]",
      "text/plain": [
       "<Figure size 432x288 with 1 Axes>"
      ]
     },
     "metadata": {},
     "output_type": "display_data"
    }
   ],
   "source": [
    "DIF = df1['DIF'].values\n",
    "MACD= df1['MACD'].values\n",
    "plt.plot(DIF[::-1], label = 'DIF')\n",
    "plt.plot(MACD[::-1], label = 'MACD')\n",
    "plt.legend(loc = 'upper left')\n",
    "plt.savefig('MACD.png')"
   ]
  },
  {
   "cell_type": "code",
   "execution_count": 16,
   "metadata": {},
   "outputs": [
    {
     "data": {
      "text/plain": [
       "<matplotlib.legend.Legend at 0x11d727f60>"
      ]
     },
     "execution_count": 16,
     "metadata": {},
     "output_type": "execute_result"
    },
    {
     "data": {
      "image/png": "[encoded data removed]",
      "text/plain": [
       "<Figure size 432x288 with 1 Axes>"
      ]
     },
     "metadata": {},
     "output_type": "display_data"
    }
   ],
   "source": [
    "MACD= df1['MACD'].values\n",
    "Close = df1['Close'].values\n",
    "plt.plot(Close[::-1], label = 'Close')\n",
    "plt.plot(MACD[::-1], label = 'MACD')\n",
    "plt.legend(loc = 'upper left')"
   ]
  },
  {
   "cell_type": "markdown",
   "metadata": {},
   "source": [
    "### 3.\n",
    "資料：2308 Delta<br>\n",
    "期間：2010/11/22~2019/11/21<br>\n",
    "手續費：0.1425%<br>\n",
    "證交稅：0.3%<br>\n",
    "績效指標：（Output)\n",
    "1. 淨利：累計總獲利(虧損)<br>\n",
    "2. 年化報酬率：將累計報酬率做年化<br>\n",
    "3. 交易次數：買進然後賣出算一次<br>\n",
    "4. 交易成本：累計手續費與證交稅總和<br>\n",
    "5. 勝率：交易獲利次數/總交易次數<br>\n",
    "6. (平均獲利/平均虧損)：(正報酬率總和/獲利次數)除以(負報酬率總和/虧損次數)<br>\n",
    "\n",
    "模擬以下交易策略進行歷史回測，並計算策略回測的各項績效指標(上述6項)，並且繪製（1）各均線及Close走勢圖 (2）累積損益圖。<br>\n",
    "a. 當20MA向上交叉60MA時，以下一個交易日開盤價，買進並持有1張台達電。<br>\n",
    "b. 當20MA向下交叉60MA時，以下一個交易日開盤價，賣出所持有的部位。"
   ]
  },
  {
   "cell_type": "code",
   "execution_count": 17,
   "metadata": {},
   "outputs": [],
   "source": [
    "# n MA 前n日sum(colse)/n\n",
    "\n",
    "def nma(nday,data):\n",
    "    result = []\n",
    "    for i in range(len(data)-nday):\n",
    "        result.append(np.mean(data[i:i+nday]))\n",
    "    return np.array(result)"
   ]
  },
  {
   "cell_type": "code",
   "execution_count": 18,
   "metadata": {},
   "outputs": [
    {
     "data": {
      "text/html": [
       "<div>\n",
       "<style scoped>\n",
       "    .dataframe tbody tr th:only-of-type {\n",
       "        vertical-align: middle;\n",
       "    }\n",
       "\n",
       "    .dataframe tbody tr th {\n",
       "        vertical-align: top;\n",
       "    }\n",
       "\n",
       "    .dataframe thead th {\n",
       "        text-align: right;\n",
       "    }\n",
       "</style>\n",
       "<table border=\"1\" class=\"dataframe\">\n",
       "  <thead>\n",
       "    <tr style=\"text-align: right;\">\n",
       "      <th></th>\n",
       "      <th>Date</th>\n",
       "      <th>Open</th>\n",
       "      <th>High</th>\n",
       "      <th>Low</th>\n",
       "      <th>Close</th>\n",
       "      <th>20_MA</th>\n",
       "      <th>60_MA</th>\n",
       "    </tr>\n",
       "  </thead>\n",
       "  <tbody>\n",
       "    <tr>\n",
       "      <th>0</th>\n",
       "      <td>2019/11/21</td>\n",
       "      <td>135.5</td>\n",
       "      <td>137.5</td>\n",
       "      <td>135.0</td>\n",
       "      <td>137.5</td>\n",
       "      <td>137.125</td>\n",
       "      <td>139.241667</td>\n",
       "    </tr>\n",
       "    <tr>\n",
       "      <th>1</th>\n",
       "      <td>2019/11/20</td>\n",
       "      <td>139.0</td>\n",
       "      <td>139.0</td>\n",
       "      <td>136.5</td>\n",
       "      <td>137.0</td>\n",
       "      <td>137.225</td>\n",
       "      <td>139.425000</td>\n",
       "    </tr>\n",
       "    <tr>\n",
       "      <th>2</th>\n",
       "      <td>2019/11/19</td>\n",
       "      <td>137.0</td>\n",
       "      <td>139.5</td>\n",
       "      <td>136.0</td>\n",
       "      <td>139.5</td>\n",
       "      <td>137.250</td>\n",
       "      <td>139.633333</td>\n",
       "    </tr>\n",
       "    <tr>\n",
       "      <th>3</th>\n",
       "      <td>2019/11/18</td>\n",
       "      <td>134.0</td>\n",
       "      <td>136.5</td>\n",
       "      <td>134.0</td>\n",
       "      <td>136.5</td>\n",
       "      <td>137.100</td>\n",
       "      <td>139.808333</td>\n",
       "    </tr>\n",
       "    <tr>\n",
       "      <th>4</th>\n",
       "      <td>2019/11/15</td>\n",
       "      <td>134.0</td>\n",
       "      <td>135.0</td>\n",
       "      <td>133.0</td>\n",
       "      <td>133.5</td>\n",
       "      <td>137.075</td>\n",
       "      <td>140.066667</td>\n",
       "    </tr>\n",
       "  </tbody>\n",
       "</table>\n",
       "</div>"
      ],
      "text/plain": [
       "         Date   Open   High    Low  Close    20_MA       60_MA\n",
       "0  2019/11/21  135.5  137.5  135.0  137.5  137.125  139.241667\n",
       "1  2019/11/20  139.0  139.0  136.5  137.0  137.225  139.425000\n",
       "2  2019/11/19  137.0  139.5  136.0  139.5  137.250  139.633333\n",
       "3  2019/11/18  134.0  136.5  134.0  136.5  137.100  139.808333\n",
       "4  2019/11/15  134.0  135.0  133.0  133.5  137.075  140.066667"
      ]
     },
     "execution_count": 18,
     "metadata": {},
     "output_type": "execute_result"
    }
   ],
   "source": [
    "df2['20_MA'] = pd.Series(nma(20, df2['Close']))    \n",
    "df2['60_MA'] = pd.Series(nma(60, df2['Close']))    \n",
    "df2.head()"
   ]
  },
  {
   "cell_type": "code",
   "execution_count": 19,
   "metadata": {},
   "outputs": [
    {
     "name": "stdout",
     "output_type": "stream",
     "text": [
      "[2108, 1928, 1809, 1695, 1669, 1661, 1554, 1502, 1400, 1203, 1021, 895, 848, 694, 626, 447, 299, 96]\n",
      "[2090, 1832, 1731, 1671, 1668, 1571, 1535, 1402, 1266, 1128, 974, 857, 774, 653, 603, 420, 128, 67]\n"
     ]
    }
   ],
   "source": [
    "buy = []\n",
    "sell = []\n",
    "flag = True\n",
    "\n",
    "for i in range(len(df2.index)-60, -1, -1):\n",
    "    if df2['20_MA'][i] >= df2['60_MA'][i]:\n",
    "        if flag:\n",
    "            buy.append(i-1)\n",
    "            flag = False\n",
    "    else:\n",
    "        if not flag:\n",
    "            sell.append(i-1)\n",
    "            flag = True\n",
    "        \n",
    "print(buy)\n",
    "print(sell)"
   ]
  },
  {
   "cell_type": "code",
   "execution_count": 20,
   "metadata": {},
   "outputs": [
    {
     "data": {
      "text/html": [
       "<div>\n",
       "<style scoped>\n",
       "    .dataframe tbody tr th:only-of-type {\n",
       "        vertical-align: middle;\n",
       "    }\n",
       "\n",
       "    .dataframe tbody tr th {\n",
       "        vertical-align: top;\n",
       "    }\n",
       "\n",
       "    .dataframe thead th {\n",
       "        text-align: right;\n",
       "    }\n",
       "</style>\n",
       "<table border=\"1\" class=\"dataframe\">\n",
       "  <thead>\n",
       "    <tr style=\"text-align: right;\">\n",
       "      <th></th>\n",
       "      <th>Date</th>\n",
       "      <th>Open</th>\n",
       "      <th>High</th>\n",
       "      <th>Low</th>\n",
       "      <th>Close</th>\n",
       "      <th>20_MA</th>\n",
       "      <th>60_MA</th>\n",
       "    </tr>\n",
       "  </thead>\n",
       "  <tbody>\n",
       "    <tr>\n",
       "      <th>2090</th>\n",
       "      <td>2011/05/25</td>\n",
       "      <td>109.5</td>\n",
       "      <td>109.5</td>\n",
       "      <td>107.0</td>\n",
       "      <td>107.0</td>\n",
       "      <td>123.200</td>\n",
       "      <td>124.716667</td>\n",
       "    </tr>\n",
       "    <tr>\n",
       "      <th>1832</th>\n",
       "      <td>2012/06/06</td>\n",
       "      <td>79.3</td>\n",
       "      <td>82.3</td>\n",
       "      <td>78.1</td>\n",
       "      <td>80.4</td>\n",
       "      <td>86.720</td>\n",
       "      <td>87.870000</td>\n",
       "    </tr>\n",
       "    <tr>\n",
       "      <th>1731</th>\n",
       "      <td>2012/10/29</td>\n",
       "      <td>98.0</td>\n",
       "      <td>101.0</td>\n",
       "      <td>98.0</td>\n",
       "      <td>100.5</td>\n",
       "      <td>105.000</td>\n",
       "      <td>106.038333</td>\n",
       "    </tr>\n",
       "    <tr>\n",
       "      <th>1671</th>\n",
       "      <td>2013/01/22</td>\n",
       "      <td>106.5</td>\n",
       "      <td>107.0</td>\n",
       "      <td>104.5</td>\n",
       "      <td>107.0</td>\n",
       "      <td>105.175</td>\n",
       "      <td>105.230000</td>\n",
       "    </tr>\n",
       "    <tr>\n",
       "      <th>1668</th>\n",
       "      <td>2013/01/25</td>\n",
       "      <td>105.5</td>\n",
       "      <td>106.0</td>\n",
       "      <td>104.0</td>\n",
       "      <td>106.0</td>\n",
       "      <td>105.375</td>\n",
       "      <td>105.475000</td>\n",
       "    </tr>\n",
       "  </tbody>\n",
       "</table>\n",
       "</div>"
      ],
      "text/plain": [
       "            Date   Open   High    Low  Close    20_MA       60_MA\n",
       "2090  2011/05/25  109.5  109.5  107.0  107.0  123.200  124.716667\n",
       "1832  2012/06/06   79.3   82.3   78.1   80.4   86.720   87.870000\n",
       "1731  2012/10/29   98.0  101.0   98.0  100.5  105.000  106.038333\n",
       "1671  2013/01/22  106.5  107.0  104.5  107.0  105.175  105.230000\n",
       "1668  2013/01/25  105.5  106.0  104.0  106.0  105.375  105.475000"
      ]
     },
     "execution_count": 20,
     "metadata": {},
     "output_type": "execute_result"
    }
   ],
   "source": [
    "buy_df = df2.iloc[buy]\n",
    "sell_df = df2.iloc[sell]\n",
    "buy_df.head()\n",
    "sell_df.head()"
   ]
  },
  {
   "cell_type": "code",
   "execution_count": 21,
   "metadata": {},
   "outputs": [
    {
     "data": {
      "text/plain": [
       "<matplotlib.legend.Legend at 0x11d7fca58>"
      ]
     },
     "execution_count": 21,
     "metadata": {},
     "output_type": "execute_result"
    },
    {
     "data": {
      "image/png": "[encoded data removed]",
      "text/plain": [
       "<Figure size 432x288 with 1 Axes>"
      ]
     },
     "metadata": {},
     "output_type": "display_data"
    }
   ],
   "source": [
    "#(1)各均線及Close走勢圖\n",
    "MA_20= df2['20_MA'].values\n",
    "MA_60= df2['60_MA'].values\n",
    "Close2=df2['Close'].values\n",
    "plt.plot(MA_20[::-1], label = '20_MA')\n",
    "plt.plot(MA_60[::-1], label = '60_MA')\n",
    "plt.plot(Close2[::-1], label = 'Close')\n",
    "plt.legend(loc = 'upper left')"
   ]
  },
  {
   "cell_type": "code",
   "execution_count": 22,
   "metadata": {},
   "outputs": [
    {
     "name": "stdout",
     "output_type": "stream",
     "text": [
      "77.6\n"
     ]
    }
   ],
   "source": [
    "#1.淨利：累計總獲利(虧損)\n",
    "profit = df2['Open'][sell].values - df2['Open'][buy].values\n",
    "print(np.sum(profit))"
   ]
  },
  {
   "cell_type": "code",
   "execution_count": 23,
   "metadata": {},
   "outputs": [
    {
     "name": "stdout",
     "output_type": "stream",
     "text": [
      "[-24.5   3.6   6.    0.5  -1.   28.   -9.   22.   26.    6.5  -3.    4.5\n",
      "  12.   -1.   -6.5  -6.5  25.   -5. ]\n"
     ]
    }
   ],
   "source": [
    "print(profit)"
   ]
  },
  {
   "cell_type": "code",
   "execution_count": 24,
   "metadata": {},
   "outputs": [
    {
     "data": {
      "text/plain": [
       "[<matplotlib.lines.Line2D at 0x11d869828>]"
      ]
     },
     "execution_count": 24,
     "metadata": {},
     "output_type": "execute_result"
    },
    {
     "data": {
      "image/png": "[encoded data removed]",
      "text/plain": [
       "<Figure size 432x288 with 1 Axes>"
      ]
     },
     "metadata": {},
     "output_type": "display_data"
    }
   ],
   "source": [
    "plt.plot(profit)"
   ]
  },
  {
   "cell_type": "code",
   "execution_count": 25,
   "metadata": {},
   "outputs": [
    {
     "data": {
      "text/plain": [
       "5.207245855031806"
      ]
     },
     "execution_count": 25,
     "metadata": {},
     "output_type": "execute_result"
    }
   ],
   "source": [
    "#2.年化報酬率：將累計報酬率做年化\n",
    "((np.sum(profit) / df2.loc[buy[0], 'Open'] + 1) ** (1 / 9) - 1)*100"
   ]
  },
  {
   "cell_type": "code",
   "execution_count": 26,
   "metadata": {},
   "outputs": [
    {
     "data": {
      "text/plain": [
       "(18, 18)"
      ]
     },
     "execution_count": 26,
     "metadata": {},
     "output_type": "execute_result"
    }
   ],
   "source": [
    "#3.交易次數：買進然後賣出算一次\n",
    "len(buy),len(sell)"
   ]
  },
  {
   "cell_type": "code",
   "execution_count": 27,
   "metadata": {},
   "outputs": [
    {
     "name": "stdout",
     "output_type": "stream",
     "text": [
      "185.075625\n"
     ]
    }
   ],
   "source": [
    "#4.交易成本：累計手續費與證交稅總和\n",
    "\n",
    "print(0.004425 * (sum(buy) + sum(sell)))"
   ]
  },
  {
   "cell_type": "code",
   "execution_count": 28,
   "metadata": {},
   "outputs": [
    {
     "name": "stdout",
     "output_type": "stream",
     "text": [
      "0.5555555555555556\n"
     ]
    }
   ],
   "source": [
    "#5.勝率：交易獲利次數/總交易次數\n",
    "delta1 = df2['Open'][sell].values - df2['Open'][buy].values\n",
    "print(len(delta1[delta1 > 0]) / len(delta1))"
   ]
  },
  {
   "cell_type": "code",
   "execution_count": 29,
   "metadata": {},
   "outputs": [
    {
     "data": {
      "text/plain": [
       "1.8987610619469026"
      ]
     },
     "execution_count": 29,
     "metadata": {},
     "output_type": "execute_result"
    }
   ],
   "source": [
    "#6.(平均獲利/平均虧損)：(正報酬率總和/獲利次數)除以(負報酬率總和/虧損次數)\n",
    "\n",
    "(sum(delta1[delta1 > 0]) / len(delta1[delta1 > 0])) / (abs(sum(delta1[delta1 < 0])) / len(delta1[delta1 < 0]))"
   ]
  },
  {
   "cell_type": "code",
   "execution_count": 30,
   "metadata": {},
   "outputs": [
    {
     "data": {
      "text/plain": [
       "'\\n資料：2308 Delta\\n期間：2010/11/22~2019/11/21\\n手續費：0.1425%\\n證交稅：0.3%\\n績效指標：（Output)\\n'"
      ]
     },
     "execution_count": 30,
     "metadata": {},
     "output_type": "execute_result"
    }
   ],
   "source": [
    "'''\n",
    "資料：2308 Delta\n",
    "期間：2010/11/22~2019/11/21\n",
    "手續費：0.1425%\n",
    "證交稅：0.3%\n",
    "績效指標：（Output)\n",
    "'''"
   ]
  },
  {
   "cell_type": "code",
   "execution_count": null,
   "metadata": {},
   "outputs": [],
   "source": []
  },
  {
   "cell_type": "code",
   "execution_count": null,
   "metadata": {},
   "outputs": [],
   "source": []
  },
  {
   "cell_type": "code",
   "execution_count": null,
   "metadata": {},
   "outputs": [],
   "source": []
  }
 ],
 "metadata": {
  "kernelspec": {
   "display_name": "Python 3",
   "language": "python",
   "name": "python3"
  },
  "language_info": {
   "codemirror_mode": {
    "name": "ipython",
    "version": 3
   },
   "file_extension": ".py",
   "mimetype": "text/x-python",
   "name": "python",
   "nbconvert_exporter": "python",
   "pygments_lexer": "ipython3",
   "version": "3.6.5"
  }
 },
 "nbformat": 4,
 "nbformat_minor": 2
}
