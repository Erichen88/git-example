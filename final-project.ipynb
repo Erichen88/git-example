{
 "cells": [
  {
   "cell_type": "code",
   "execution_count": 1,
   "metadata": {},
   "outputs": [],
   "source": [
    "import pandas as pd\n",
    "import numpy as np\n",
    "from datetime import date, datetime\n",
    "from yahoo_historical import Fetcher"
   ]
  },
  {
   "cell_type": "code",
   "execution_count": 2,
   "metadata": {},
   "outputs": [
    {
     "name": "stdout",
     "output_type": "stream",
     "text": [
      "         Date         Open         High          Low        Close  \\\n",
      "0  2019-01-02  9725.269531  9737.679688  9542.519531  9554.139648   \n",
      "1  2019-01-03  9494.250000  9554.530273  9474.469727  9492.419922   \n",
      "2  2019-01-04  9427.240234  9427.240234  9319.280273  9382.509766   \n",
      "3  2019-01-07  9460.200195  9596.349609  9460.200195  9590.299805   \n",
      "4  2019-01-08  9591.559570  9600.940430  9547.629883  9563.599609   \n",
      "\n",
      "     Adj Close   Volume  \n",
      "0  9554.139648  1239100  \n",
      "1  9492.419922  1560800  \n",
      "2  9382.509766  1842100  \n",
      "3  9590.299805  1722300  \n",
      "4  9563.599609  1423100  \n"
     ]
    }
   ],
   "source": [
    "df = Fetcher('^TWII', [2019, 1, 1], [2019, 12, 8]).getHistorical()\n",
    "print(df.head())"
   ]
  },
  {
   "cell_type": "code",
   "execution_count": 3,
   "metadata": {},
   "outputs": [
    {
     "data": {
      "text/html": [
       "<div>\n",
       "<style scoped>\n",
       "    .dataframe tbody tr th:only-of-type {\n",
       "        vertical-align: middle;\n",
       "    }\n",
       "\n",
       "    .dataframe tbody tr th {\n",
       "        vertical-align: top;\n",
       "    }\n",
       "\n",
       "    .dataframe thead th {\n",
       "        text-align: right;\n",
       "    }\n",
       "</style>\n",
       "<table border=\"1\" class=\"dataframe\">\n",
       "  <thead>\n",
       "    <tr style=\"text-align: right;\">\n",
       "      <th></th>\n",
       "      <th>Date</th>\n",
       "    </tr>\n",
       "  </thead>\n",
       "  <tbody>\n",
       "    <tr>\n",
       "      <th>0</th>\n",
       "      <td>2019-01-02</td>\n",
       "    </tr>\n",
       "    <tr>\n",
       "      <th>1</th>\n",
       "      <td>2019-01-03</td>\n",
       "    </tr>\n",
       "    <tr>\n",
       "      <th>2</th>\n",
       "      <td>2019-01-04</td>\n",
       "    </tr>\n",
       "    <tr>\n",
       "      <th>3</th>\n",
       "      <td>2019-01-07</td>\n",
       "    </tr>\n",
       "    <tr>\n",
       "      <th>4</th>\n",
       "      <td>2019-01-08</td>\n",
       "    </tr>\n",
       "  </tbody>\n",
       "</table>\n",
       "</div>"
      ],
      "text/plain": [
       "         Date\n",
       "0  2019-01-02\n",
       "1  2019-01-03\n",
       "2  2019-01-04\n",
       "3  2019-01-07\n",
       "4  2019-01-08"
      ]
     },
     "execution_count": 3,
     "metadata": {},
     "output_type": "execute_result"
    }
   ],
   "source": [
    "df[[\"Date\"]].head()"
   ]
  },
  {
   "cell_type": "code",
   "execution_count": 4,
   "metadata": {
    "scrolled": true
   },
   "outputs": [
    {
     "name": "stdout",
     "output_type": "stream",
     "text": [
      "[0, 1, 7, 8, 14, 15, 21, 22, 28, 29, 35, 36, 42, 43, 49, 50, 56, 57, 63, 64, 70, 71, 77, 78, 84, 85, 91, 92, 98, 99, 105, 106, 112, 113, 119, 120, 126, 127, 133, 134, 140, 141, 147, 148, 154, 155, 161, 162, 168, 169, 175, 176, 182, 183, 189, 190, 196, 197, 203, 204, 210, 211, 217, 218]\n"
     ]
    }
   ],
   "source": [
    "idx = [i for i in range(len(df)) if (i % 7 == 0 or i % 7 == 1)] \n",
    "print(idx)"
   ]
  },
  {
   "cell_type": "code",
   "execution_count": 5,
   "metadata": {},
   "outputs": [
    {
     "name": "stdout",
     "output_type": "stream",
     "text": [
      "           Open        Close\n",
      "0   9725.269531  9554.139648\n",
      "1   9494.250000  9492.419922\n",
      "7   9753.629883  9759.400391\n",
      "8   9737.669922  9708.219727\n",
      "14  9880.540039  9894.660156\n"
     ]
    }
   ],
   "source": [
    "df = df.loc[idx, ['Open', 'Close']]\n",
    "print(df.head())"
   ]
  },
  {
   "cell_type": "code",
   "execution_count": 6,
   "metadata": {},
   "outputs": [
    {
     "name": "stdout",
     "output_type": "stream",
     "text": [
      "(64, 2)\n"
     ]
    }
   ],
   "source": [
    "#64筆資料.兩個column(Open.Close)\n",
    "data = df.values \n",
    "print(data.shape)"
   ]
  },
  {
   "cell_type": "code",
   "execution_count": 7,
   "metadata": {},
   "outputs": [
    {
     "name": "stdout",
     "output_type": "stream",
     "text": [
      "(32, 2, 2)\n"
     ]
    }
   ],
   "source": [
    "#32組連續2天.兩個column\n",
    "data = data.reshape((len(idx) // 2, 2, 2))\n",
    "print(data.shape)"
   ]
  },
  {
   "cell_type": "code",
   "execution_count": 8,
   "metadata": {},
   "outputs": [
    {
     "name": "stdout",
     "output_type": "stream",
     "text": [
      "[-1.71129883e+02  5.77050800e+00  1.41201170e+01 -2.55898440e+01\n",
      "  9.05195310e+01 -1.79902340e+01 -4.26494140e+01 -5.56396480e+01\n",
      " -2.07900390e+01  2.22197260e+01  2.21298830e+01  7.31894530e+01\n",
      " -8.19697260e+01 -1.00498050e+01 -3.58798830e+01  4.18398440e+01\n",
      " -8.83984300e+00 -1.19140000e-01  2.10498050e+01  4.91601560e+01\n",
      " -1.05459961e+02 -4.76201170e+01 -9.88300780e+01  9.09892570e+01\n",
      " -3.43496090e+01 -3.75800790e+01  3.12998040e+01  1.79101570e+01\n",
      "  4.33105460e+01 -4.13496090e+01  4.79199220e+01 -2.46201170e+01]\n"
     ]
    }
   ],
   "source": [
    "#全選,第一天(0)的close-open(1-0)\n",
    "delta = data[:, 0, 1] - data[:, 0, 0]\n",
    "print(delta)"
   ]
  },
  {
   "cell_type": "code",
   "execution_count": 9,
   "metadata": {},
   "outputs": [
    {
     "name": "stdout",
     "output_type": "stream",
     "text": [
      "[[ 9737.669922  9708.219727]\n",
      " [ 9869.540039  9846.400391]\n",
      " [10282.320313 10319.530273]\n",
      " [10961.610352 10997.259766]\n",
      " [10986.530273 10952.469727]\n",
      " [10938.469727 10923.709961]\n",
      " [10547.150391 10566.740234]\n",
      " [10861.110352 10828.480469]\n",
      " [10898.25     10891.980469]\n",
      " [10718.400391 10756.929688]\n",
      " [10976.929688 10889.959961]\n",
      " [11221.19043  11271.25    ]\n",
      " [11393.679688 11358.709961]\n",
      " [11645.730469 11631.200195]]\n"
     ]
    }
   ],
   "source": [
    "#每一組 第一天close-open>0,選第二天資料,取open跟close(:)\n",
    "data = data[delta > 0, 1, :]\n",
    "print(data)"
   ]
  },
  {
   "cell_type": "code",
   "execution_count": 10,
   "metadata": {},
   "outputs": [
    {
     "name": "stdout",
     "output_type": "stream",
     "text": [
      "17468.242599999503\n"
     ]
    }
   ],
   "source": [
    "#每一筆全選 第二天的open-close(空)\n",
    "a = data[:, 0] - data[:, 1]\n",
    "print(200*np.sum(a)-len(a)*120)"
   ]
  },
  {
   "cell_type": "code",
   "execution_count": 11,
   "metadata": {},
   "outputs": [
    {
     "name": "stdout",
     "output_type": "stream",
     "text": [
      "95.74121299999751\n"
     ]
    }
   ],
   "source": [
    "print(sum(a))"
   ]
  },
  {
   "cell_type": "code",
   "execution_count": null,
   "metadata": {},
   "outputs": [],
   "source": []
  },
  {
   "cell_type": "code",
   "execution_count": null,
   "metadata": {},
   "outputs": [],
   "source": []
  }
 ],
 "metadata": {
  "kernelspec": {
   "display_name": "Python 3",
   "language": "python",
   "name": "python3"
  },
  "language_info": {
   "codemirror_mode": {
    "name": "ipython",
    "version": 3
   },
   "file_extension": ".py",
   "mimetype": "text/x-python",
   "name": "python",
   "nbconvert_exporter": "python",
   "pygments_lexer": "ipython3",
   "version": "3.6.5"
  }
 },
 "nbformat": 4,
 "nbformat_minor": 2
}
