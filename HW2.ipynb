{
 "cells": [
  {
   "cell_type": "code",
   "execution_count": 1,
   "metadata": {},
   "outputs": [],
   "source": [
    "import os\n",
    "import math\n",
    "from matplotlib.font_manager import FontProperties\n",
    "import numpy as np\n",
    "import pandas as pd"
   ]
  },
  {
   "cell_type": "code",
   "execution_count": 2,
   "metadata": {},
   "outputs": [
    {
     "data": {
      "text/plain": [
       "(246, 1)"
      ]
     },
     "execution_count": 2,
     "metadata": {},
     "output_type": "execute_result"
    }
   ],
   "source": [
    "TVIX=pd.read_csv('C:/Users/user/Desktop/TVIX.csv',index_col='time')\n",
    "#轉換成時間序列格式\n",
    "TVIX.index=pd.to_datetime(TVIX.index)\n",
    "TVIX.shape"
   ]
  },
  {
   "cell_type": "code",
   "execution_count": 3,
   "metadata": {},
   "outputs": [
    {
     "data": {
      "text/html": [
       "<div>\n",
       "<style scoped>\n",
       "    .dataframe tbody tr th:only-of-type {\n",
       "        vertical-align: middle;\n",
       "    }\n",
       "\n",
       "    .dataframe tbody tr th {\n",
       "        vertical-align: top;\n",
       "    }\n",
       "\n",
       "    .dataframe thead th {\n",
       "        text-align: right;\n",
       "    }\n",
       "</style>\n",
       "<table border=\"1\" class=\"dataframe\">\n",
       "  <thead>\n",
       "    <tr style=\"text-align: right;\">\n",
       "      <th></th>\n",
       "      <th>TVIX</th>\n",
       "    </tr>\n",
       "    <tr>\n",
       "      <th>time</th>\n",
       "      <th></th>\n",
       "    </tr>\n",
       "  </thead>\n",
       "  <tbody>\n",
       "    <tr>\n",
       "      <th>2018-01-02</th>\n",
       "      <td>10.42</td>\n",
       "    </tr>\n",
       "    <tr>\n",
       "      <th>2018-01-03</th>\n",
       "      <td>10.24</td>\n",
       "    </tr>\n",
       "    <tr>\n",
       "      <th>2018-01-04</th>\n",
       "      <td>9.88</td>\n",
       "    </tr>\n",
       "  </tbody>\n",
       "</table>\n",
       "</div>"
      ],
      "text/plain": [
       "             TVIX\n",
       "time             \n",
       "2018-01-02  10.42\n",
       "2018-01-03  10.24\n",
       "2018-01-04   9.88"
      ]
     },
     "execution_count": 3,
     "metadata": {},
     "output_type": "execute_result"
    }
   ],
   "source": [
    "TVIX.head(n=3)"
   ]
  },
  {
   "cell_type": "code",
   "execution_count": 4,
   "metadata": {},
   "outputs": [
    {
     "data": {
      "text/html": [
       "<div>\n",
       "<style scoped>\n",
       "    .dataframe tbody tr th:only-of-type {\n",
       "        vertical-align: middle;\n",
       "    }\n",
       "\n",
       "    .dataframe tbody tr th {\n",
       "        vertical-align: top;\n",
       "    }\n",
       "\n",
       "    .dataframe thead th {\n",
       "        text-align: right;\n",
       "    }\n",
       "</style>\n",
       "<table border=\"1\" class=\"dataframe\">\n",
       "  <thead>\n",
       "    <tr style=\"text-align: right;\">\n",
       "      <th></th>\n",
       "      <th>TVIX</th>\n",
       "    </tr>\n",
       "    <tr>\n",
       "      <th>time</th>\n",
       "      <th></th>\n",
       "    </tr>\n",
       "  </thead>\n",
       "  <tbody>\n",
       "    <tr>\n",
       "      <th>2018-12-25</th>\n",
       "      <td>21.83</td>\n",
       "    </tr>\n",
       "    <tr>\n",
       "      <th>2018-12-26</th>\n",
       "      <td>22.91</td>\n",
       "    </tr>\n",
       "    <tr>\n",
       "      <th>2018-12-27</th>\n",
       "      <td>20.38</td>\n",
       "    </tr>\n",
       "  </tbody>\n",
       "</table>\n",
       "</div>"
      ],
      "text/plain": [
       "             TVIX\n",
       "time             \n",
       "2018-12-25  21.83\n",
       "2018-12-26  22.91\n",
       "2018-12-27  20.38"
      ]
     },
     "execution_count": 4,
     "metadata": {},
     "output_type": "execute_result"
    }
   ],
   "source": [
    "TVIX.tail(n=3)"
   ]
  },
  {
   "cell_type": "code",
   "execution_count": 5,
   "metadata": {},
   "outputs": [],
   "source": [
    "TVIX=TVIX.sort_index()"
   ]
  },
  {
   "cell_type": "code",
   "execution_count": 6,
   "metadata": {},
   "outputs": [
    {
     "data": {
      "text/html": [
       "<div>\n",
       "<style scoped>\n",
       "    .dataframe tbody tr th:only-of-type {\n",
       "        vertical-align: middle;\n",
       "    }\n",
       "\n",
       "    .dataframe tbody tr th {\n",
       "        vertical-align: top;\n",
       "    }\n",
       "\n",
       "    .dataframe thead th {\n",
       "        text-align: right;\n",
       "    }\n",
       "</style>\n",
       "<table border=\"1\" class=\"dataframe\">\n",
       "  <thead>\n",
       "    <tr style=\"text-align: right;\">\n",
       "      <th></th>\n",
       "      <th>TVIX</th>\n",
       "    </tr>\n",
       "    <tr>\n",
       "      <th>time</th>\n",
       "      <th></th>\n",
       "    </tr>\n",
       "  </thead>\n",
       "  <tbody>\n",
       "    <tr>\n",
       "      <th>2018-12-21</th>\n",
       "      <td>20.13</td>\n",
       "    </tr>\n",
       "    <tr>\n",
       "      <th>2018-12-22</th>\n",
       "      <td>21.07</td>\n",
       "    </tr>\n",
       "    <tr>\n",
       "      <th>2018-12-24</th>\n",
       "      <td>20.49</td>\n",
       "    </tr>\n",
       "  </tbody>\n",
       "</table>\n",
       "</div>"
      ],
      "text/plain": [
       "             TVIX\n",
       "time             \n",
       "2018-12-21  20.13\n",
       "2018-12-22  21.07\n",
       "2018-12-24  20.49"
      ]
     },
     "execution_count": 6,
     "metadata": {},
     "output_type": "execute_result"
    }
   ],
   "source": [
    "TVIXtrain=TVIX[:-3]\n",
    "TVIXtrain.tail(n=3)"
   ]
  },
  {
   "cell_type": "code",
   "execution_count": 7,
   "metadata": {},
   "outputs": [
    {
     "data": {
      "text/html": [
       "<div>\n",
       "<style scoped>\n",
       "    .dataframe tbody tr th:only-of-type {\n",
       "        vertical-align: middle;\n",
       "    }\n",
       "\n",
       "    .dataframe tbody tr th {\n",
       "        vertical-align: top;\n",
       "    }\n",
       "\n",
       "    .dataframe thead th {\n",
       "        text-align: right;\n",
       "    }\n",
       "</style>\n",
       "<table border=\"1\" class=\"dataframe\">\n",
       "  <thead>\n",
       "    <tr style=\"text-align: right;\">\n",
       "      <th></th>\n",
       "      <th>TVIX</th>\n",
       "    </tr>\n",
       "    <tr>\n",
       "      <th>time</th>\n",
       "      <th></th>\n",
       "    </tr>\n",
       "  </thead>\n",
       "  <tbody>\n",
       "    <tr>\n",
       "      <th>2018-12-25</th>\n",
       "      <td>21.83</td>\n",
       "    </tr>\n",
       "    <tr>\n",
       "      <th>2018-12-26</th>\n",
       "      <td>22.91</td>\n",
       "    </tr>\n",
       "    <tr>\n",
       "      <th>2018-12-27</th>\n",
       "      <td>20.38</td>\n",
       "    </tr>\n",
       "  </tbody>\n",
       "</table>\n",
       "</div>"
      ],
      "text/plain": [
       "             TVIX\n",
       "time             \n",
       "2018-12-25  21.83\n",
       "2018-12-26  22.91\n",
       "2018-12-27  20.38"
      ]
     },
     "execution_count": 7,
     "metadata": {},
     "output_type": "execute_result"
    }
   ],
   "source": [
    "TVIXtest = TVIX[-3:]\n",
    "TVIXtest\n"
   ]
  },
  {
   "cell_type": "code",
   "execution_count": 8,
   "metadata": {},
   "outputs": [
    {
     "data": {
      "text/plain": [
       "<matplotlib.axes._subplots.AxesSubplot at 0x22823be3e48>"
      ]
     },
     "execution_count": 8,
     "metadata": {},
     "output_type": "execute_result"
    },
    {
     "data": {
      "image/png": "[encoded data removed]",
      "text/plain": [
       "<Figure size 432x288 with 1 Axes>"
      ]
     },
     "metadata": {
      "needs_background": "light"
     },
     "output_type": "display_data"
    }
   ],
   "source": [
    "TVIX.plot(title='TVIX 2018')"
   ]
  },
  {
   "cell_type": "code",
   "execution_count": 9,
   "metadata": {},
   "outputs": [],
   "source": [
    "from arch.unitroot import ADF\n"
   ]
  },
  {
   "cell_type": "code",
   "execution_count": 10,
   "metadata": {},
   "outputs": [
    {
     "name": "stdout",
     "output_type": "stream",
     "text": [
      "   Augmented Dickey-Fuller Results   \n",
      "=====================================\n",
      "Test Statistic                 -2.720\n",
      "P-value                         0.071\n",
      "Lags                                3\n",
      "-------------------------------------\n",
      "\n",
      "Trend: Constant\n",
      "Critical Values: -3.46 (1%), -2.87 (5%), -2.57 (10%)\n",
      "Null Hypothesis: The process contains a unit root.\n",
      "Alternative Hypothesis: The process is weakly stationary.\n"
     ]
    }
   ],
   "source": [
    "TVIXtrain=TVIXtrain.dropna()\n",
    "print(ADF(TVIXtrain,max_lags=10).summary().as_text())\n"
   ]
  },
  {
   "cell_type": "code",
   "execution_count": 33,
   "metadata": {},
   "outputs": [
    {
     "name": "stdout",
     "output_type": "stream",
     "text": [
      "   Augmented Dickey-Fuller Results   \n",
      "=====================================\n",
      "Test Statistic                 -9.332\n",
      "P-value                         0.000\n",
      "Lags                                2\n",
      "-------------------------------------\n",
      "\n",
      "Trend: Constant\n",
      "Critical Values: -3.46 (1%), -2.87 (5%), -2.57 (10%)\n",
      "Null Hypothesis: The process contains a unit root.\n",
      "Alternative Hypothesis: The process is weakly stationary.\n"
     ]
    }
   ],
   "source": [
    "TVIXroot=TVIXtrain.diff()[1:]\n",
    "TVIXroot=TVIXroot.dropna()\n",
    "print(ADF(TVIXroot,max_lags=10).summary().as_text())\n"
   ]
  },
  {
   "cell_type": "code",
   "execution_count": 34,
   "metadata": {},
   "outputs": [
    {
     "name": "stderr",
     "output_type": "stream",
     "text": [
      "C:\\Users\\user\\anaconda3\\lib\\site-packages\\statsmodels\\tsa\\stattools.py:572: FutureWarning: fft=True will become the default in a future version of statsmodels. To suppress this warning, explicitly set fft=False.\n",
      "  FutureWarning\n"
     ]
    },
    {
     "data": {
      "text/plain": [
       "0.00012052088856413821"
      ]
     },
     "execution_count": 34,
     "metadata": {},
     "output_type": "execute_result"
    }
   ],
   "source": [
    "from statsmodels.tsa import stattools\n",
    "LjungBox=stattools.q_stat(stattools.acf(TVIXroot)[1:12],len(TVIXroot))\n",
    "LjungBox[1][-1]"
   ]
  },
  {
   "cell_type": "code",
   "execution_count": 35,
   "metadata": {},
   "outputs": [
    {
     "data": {
      "image/png": "[encoded data removed]",
      "text/plain": [
       "<Figure size 432x288 with 2 Axes>"
      ]
     },
     "metadata": {
      "needs_background": "light"
     },
     "output_type": "display_data"
    }
   ],
   "source": [
    "from statsmodels.graphics.tsaplots import *\n",
    "import matplotlib.pyplot as plt\n",
    "#將畫面一分為二\n",
    "axe1=plt.subplot(121)\n",
    "axe2=plt.subplot(122)\n",
    "\n",
    "#在第一個畫面中畫出序列的自相關係數圖 \n",
    "plot1=plot_acf(TVIXroot,lags=30,ax=axe1),plt.axhline(0.05, color= 'r')\n",
    "\n",
    "#在第二個畫面中畫出序列的偏自相關係數圖\n",
    "plot2=plot_pacf(TVIXroot,lags=30,ax=axe2),plt.axhline(0.05, color= 'r')"
   ]
  },
  {
   "cell_type": "code",
   "execution_count": 52,
   "metadata": {
    "scrolled": false
   },
   "outputs": [
    {
     "data": {
      "image/png": "[encoded data removed]",
      "text/plain": [
       "<Figure size 432x288 with 2 Axes>"
      ]
     },
     "metadata": {
      "needs_background": "light"
     },
     "output_type": "display_data"
    }
   ],
   "source": [
    "axe1=plt.subplot(121)\n",
    "#在第一個畫面中畫出序列的自相關係數圖 \n",
    "plot1=plot_acf(TVIXroot,lags=30,ax=axe1),plt.axhline(0.05, color= 'r'),plt.axhline(-0.05, color= 'r')\n",
    "axe2=plt.subplot(122)\n",
    "plot2=plot_pacf(TVIXroot,lags=30,ax=axe2),plt.axhline(0.05, color= 'r'),plt.axhline(-0.05, color= 'r')"
   ]
  },
  {
   "cell_type": "code",
   "execution_count": 60,
   "metadata": {},
   "outputs": [],
   "source": [
    "from statsmodels.tsa import arima_model"
   ]
  },
  {
   "cell_type": "code",
   "execution_count": 92,
   "metadata": {
    "scrolled": true
   },
   "outputs": [
    {
     "name": "stderr",
     "output_type": "stream",
     "text": [
      "C:\\Users\\user\\anaconda3\\lib\\site-packages\\statsmodels\\tsa\\base\\tsa_model.py:218: ValueWarning: A date index has been provided, but it has no associated frequency information and so will be ignored when e.g. forecasting.\n",
      "  ' ignored when e.g. forecasting.', ValueWarning)\n",
      "C:\\Users\\user\\anaconda3\\lib\\site-packages\\statsmodels\\base\\model.py:548: HessianInversionWarning: Inverting hessian failed, no bse or cov_params available\n",
      "  'available', HessianInversionWarning)\n",
      "C:\\Users\\user\\anaconda3\\lib\\site-packages\\statsmodels\\base\\model.py:568: ConvergenceWarning: Maximum Likelihood optimization failed to converge. Check mle_retvals\n",
      "  \"Check mle_retvals\", ConvergenceWarning)\n"
     ]
    },
    {
     "data": {
      "text/html": [
       "<table class=\"simpletable\">\n",
       "<caption>ARMA Model Results</caption>\n",
       "<tr>\n",
       "  <th>Dep. Variable:</th>       <td>TVIX</td>       <th>  No. Observations:  </th>    <td>242</td>  \n",
       "</tr>\n",
       "<tr>\n",
       "  <th>Model:</th>            <td>ARMA(6, 5)</td>    <th>  Log Likelihood     </th> <td>-442.531</td>\n",
       "</tr>\n",
       "<tr>\n",
       "  <th>Method:</th>             <td>css-mle</td>     <th>  S.D. of innovations</th>   <td>1.484</td> \n",
       "</tr>\n",
       "<tr>\n",
       "  <th>Date:</th>          <td>Wed, 24 Jun 2020</td> <th>  AIC                </th>  <td>911.062</td>\n",
       "</tr>\n",
       "<tr>\n",
       "  <th>Time:</th>              <td>16:41:33</td>     <th>  BIC                </th>  <td>956.419</td>\n",
       "</tr>\n",
       "<tr>\n",
       "  <th>Sample:</th>                <td>0</td>        <th>  HQIC               </th>  <td>929.333</td>\n",
       "</tr>\n",
       "<tr>\n",
       "  <th></th>                       <td> </td>        <th>                     </th>     <td> </td>   \n",
       "</tr>\n",
       "</table>\n",
       "<table class=\"simpletable\">\n",
       "<tr>\n",
       "       <td></td>         <th>coef</th>     <th>std err</th>      <th>z</th>      <th>P>|z|</th>  <th>[0.025</th>    <th>0.975]</th>  \n",
       "</tr>\n",
       "<tr>\n",
       "  <th>const</th>      <td>    0.0297</td> <td>    0.016</td> <td>    1.805</td> <td> 0.071</td> <td>   -0.003</td> <td>    0.062</td>\n",
       "</tr>\n",
       "<tr>\n",
       "  <th>ar.L1.TVIX</th> <td>   -1.1140</td> <td>    0.135</td> <td>   -8.237</td> <td> 0.000</td> <td>   -1.379</td> <td>   -0.849</td>\n",
       "</tr>\n",
       "<tr>\n",
       "  <th>ar.L2.TVIX</th> <td>   -0.5583</td> <td>    0.081</td> <td>   -6.883</td> <td> 0.000</td> <td>   -0.717</td> <td>   -0.399</td>\n",
       "</tr>\n",
       "<tr>\n",
       "  <th>ar.L3.TVIX</th> <td>    0.0539</td> <td>    0.066</td> <td>    0.822</td> <td> 0.411</td> <td>   -0.075</td> <td>    0.183</td>\n",
       "</tr>\n",
       "<tr>\n",
       "  <th>ar.L4.TVIX</th> <td>    0.9326</td> <td>    0.067</td> <td>   13.966</td> <td> 0.000</td> <td>    0.802</td> <td>    1.064</td>\n",
       "</tr>\n",
       "<tr>\n",
       "  <th>ar.L5.TVIX</th> <td>    0.9337</td> <td>    0.128</td> <td>    7.272</td> <td> 0.000</td> <td>    0.682</td> <td>    1.185</td>\n",
       "</tr>\n",
       "<tr>\n",
       "  <th>ar.L6.TVIX</th> <td>    0.2349</td> <td>    0.068</td> <td>    3.455</td> <td> 0.001</td> <td>    0.102</td> <td>    0.368</td>\n",
       "</tr>\n",
       "<tr>\n",
       "  <th>ma.L1.TVIX</th> <td>    0.8513</td> <td>    0.132</td> <td>    6.447</td> <td> 0.000</td> <td>    0.592</td> <td>    1.110</td>\n",
       "</tr>\n",
       "<tr>\n",
       "  <th>ma.L2.TVIX</th> <td>    0.1676</td> <td>    0.051</td> <td>    3.316</td> <td> 0.001</td> <td>    0.069</td> <td>    0.267</td>\n",
       "</tr>\n",
       "<tr>\n",
       "  <th>ma.L3.TVIX</th> <td>   -0.1832</td> <td>    0.042</td> <td>   -4.328</td> <td> 0.000</td> <td>   -0.266</td> <td>   -0.100</td>\n",
       "</tr>\n",
       "<tr>\n",
       "  <th>ma.L4.TVIX</th> <td>   -0.9903</td> <td>    0.048</td> <td>  -20.798</td> <td> 0.000</td> <td>   -1.084</td> <td>   -0.897</td>\n",
       "</tr>\n",
       "<tr>\n",
       "  <th>ma.L5.TVIX</th> <td>   -0.8454</td> <td>    0.137</td> <td>   -6.182</td> <td> 0.000</td> <td>   -1.113</td> <td>   -0.577</td>\n",
       "</tr>\n",
       "</table>\n",
       "<table class=\"simpletable\">\n",
       "<caption>Roots</caption>\n",
       "<tr>\n",
       "    <td></td>   <th>            Real</th>  <th>         Imaginary</th> <th>         Modulus</th>  <th>        Frequency</th>\n",
       "</tr>\n",
       "<tr>\n",
       "  <th>AR.1</th> <td>           1.0584</td> <td>          -0.0000j</td> <td>           1.0584</td> <td>          -0.0000</td>\n",
       "</tr>\n",
       "<tr>\n",
       "  <th>AR.2</th> <td>          -0.0762</td> <td>          -1.0067j</td> <td>           1.0096</td> <td>          -0.2620</td>\n",
       "</tr>\n",
       "<tr>\n",
       "  <th>AR.3</th> <td>          -0.0762</td> <td>          +1.0067j</td> <td>           1.0096</td> <td>           0.2620</td>\n",
       "</tr>\n",
       "<tr>\n",
       "  <th>AR.4</th> <td>          -1.1928</td> <td>          -0.3984j</td> <td>           1.2575</td> <td>          -0.4487</td>\n",
       "</tr>\n",
       "<tr>\n",
       "  <th>AR.5</th> <td>          -1.1928</td> <td>          +0.3984j</td> <td>           1.2575</td> <td>           0.4487</td>\n",
       "</tr>\n",
       "<tr>\n",
       "  <th>AR.6</th> <td>          -2.4953</td> <td>          -0.0000j</td> <td>           2.4953</td> <td>          -0.5000</td>\n",
       "</tr>\n",
       "<tr>\n",
       "  <th>MA.1</th> <td>           1.0000</td> <td>          -0.0000j</td> <td>           1.0000</td> <td>          -0.0000</td>\n",
       "</tr>\n",
       "<tr>\n",
       "  <th>MA.2</th> <td>          -0.0495</td> <td>          -0.9989j</td> <td>           1.0001</td> <td>          -0.2579</td>\n",
       "</tr>\n",
       "<tr>\n",
       "  <th>MA.3</th> <td>          -0.0495</td> <td>          +0.9989j</td> <td>           1.0001</td> <td>           0.2579</td>\n",
       "</tr>\n",
       "<tr>\n",
       "  <th>MA.4</th> <td>          -1.0361</td> <td>          -0.3302j</td> <td>           1.0875</td> <td>          -0.4509</td>\n",
       "</tr>\n",
       "<tr>\n",
       "  <th>MA.5</th> <td>          -1.0361</td> <td>          +0.3302j</td> <td>           1.0875</td> <td>           0.4509</td>\n",
       "</tr>\n",
       "</table>"
      ],
      "text/plain": [
       "<class 'statsmodels.iolib.summary.Summary'>\n",
       "\"\"\"\n",
       "                              ARMA Model Results                              \n",
       "==============================================================================\n",
       "Dep. Variable:                   TVIX   No. Observations:                  242\n",
       "Model:                     ARMA(6, 5)   Log Likelihood                -442.531\n",
       "Method:                       css-mle   S.D. of innovations              1.484\n",
       "Date:                Wed, 24 Jun 2020   AIC                            911.062\n",
       "Time:                        16:41:33   BIC                            956.419\n",
       "Sample:                             0   HQIC                           929.333\n",
       "                                                                              \n",
       "==============================================================================\n",
       "                 coef    std err          z      P>|z|      [0.025      0.975]\n",
       "------------------------------------------------------------------------------\n",
       "const          0.0297      0.016      1.805      0.071      -0.003       0.062\n",
       "ar.L1.TVIX    -1.1140      0.135     -8.237      0.000      -1.379      -0.849\n",
       "ar.L2.TVIX    -0.5583      0.081     -6.883      0.000      -0.717      -0.399\n",
       "ar.L3.TVIX     0.0539      0.066      0.822      0.411      -0.075       0.183\n",
       "ar.L4.TVIX     0.9326      0.067     13.966      0.000       0.802       1.064\n",
       "ar.L5.TVIX     0.9337      0.128      7.272      0.000       0.682       1.185\n",
       "ar.L6.TVIX     0.2349      0.068      3.455      0.001       0.102       0.368\n",
       "ma.L1.TVIX     0.8513      0.132      6.447      0.000       0.592       1.110\n",
       "ma.L2.TVIX     0.1676      0.051      3.316      0.001       0.069       0.267\n",
       "ma.L3.TVIX    -0.1832      0.042     -4.328      0.000      -0.266      -0.100\n",
       "ma.L4.TVIX    -0.9903      0.048    -20.798      0.000      -1.084      -0.897\n",
       "ma.L5.TVIX    -0.8454      0.137     -6.182      0.000      -1.113      -0.577\n",
       "                                    Roots                                    \n",
       "=============================================================================\n",
       "                  Real          Imaginary           Modulus         Frequency\n",
       "-----------------------------------------------------------------------------\n",
       "AR.1            1.0584           -0.0000j            1.0584           -0.0000\n",
       "AR.2           -0.0762           -1.0067j            1.0096           -0.2620\n",
       "AR.3           -0.0762           +1.0067j            1.0096            0.2620\n",
       "AR.4           -1.1928           -0.3984j            1.2575           -0.4487\n",
       "AR.5           -1.1928           +0.3984j            1.2575            0.4487\n",
       "AR.6           -2.4953           -0.0000j            2.4953           -0.5000\n",
       "MA.1            1.0000           -0.0000j            1.0000           -0.0000\n",
       "MA.2           -0.0495           -0.9989j            1.0001           -0.2579\n",
       "MA.3           -0.0495           +0.9989j            1.0001            0.2579\n",
       "MA.4           -1.0361           -0.3302j            1.0875           -0.4509\n",
       "MA.5           -1.0361           +0.3302j            1.0875            0.4509\n",
       "-----------------------------------------------------------------------------\n",
       "\"\"\""
      ]
     },
     "execution_count": 92,
     "metadata": {},
     "output_type": "execute_result"
    }
   ],
   "source": [
    "model1=arima_model.ARIMA(TVIXroot,order=(6,0,5)).fit()\n",
    "model1.summary()"
   ]
  },
  {
   "cell_type": "code",
   "execution_count": 93,
   "metadata": {},
   "outputs": [
    {
     "name": "stderr",
     "output_type": "stream",
     "text": [
      "C:\\Users\\user\\anaconda3\\lib\\site-packages\\statsmodels\\tsa\\base\\tsa_model.py:218: ValueWarning: A date index has been provided, but it has no associated frequency information and so will be ignored when e.g. forecasting.\n",
      "  ' ignored when e.g. forecasting.', ValueWarning)\n"
     ]
    },
    {
     "data": {
      "text/html": [
       "<table class=\"simpletable\">\n",
       "<caption>ARMA Model Results</caption>\n",
       "<tr>\n",
       "  <th>Dep. Variable:</th>       <td>TVIX</td>       <th>  No. Observations:  </th>    <td>242</td>  \n",
       "</tr>\n",
       "<tr>\n",
       "  <th>Model:</th>            <td>ARMA(5, 2)</td>    <th>  Log Likelihood     </th> <td>-446.983</td>\n",
       "</tr>\n",
       "<tr>\n",
       "  <th>Method:</th>             <td>css-mle</td>     <th>  S.D. of innovations</th>   <td>1.526</td> \n",
       "</tr>\n",
       "<tr>\n",
       "  <th>Date:</th>          <td>Wed, 24 Jun 2020</td> <th>  AIC                </th>  <td>911.966</td>\n",
       "</tr>\n",
       "<tr>\n",
       "  <th>Time:</th>              <td>16:42:57</td>     <th>  BIC                </th>  <td>943.366</td>\n",
       "</tr>\n",
       "<tr>\n",
       "  <th>Sample:</th>                <td>0</td>        <th>  HQIC               </th>  <td>924.615</td>\n",
       "</tr>\n",
       "<tr>\n",
       "  <th></th>                       <td> </td>        <th>                     </th>     <td> </td>   \n",
       "</tr>\n",
       "</table>\n",
       "<table class=\"simpletable\">\n",
       "<tr>\n",
       "       <td></td>         <th>coef</th>     <th>std err</th>      <th>z</th>      <th>P>|z|</th>  <th>[0.025</th>    <th>0.975]</th>  \n",
       "</tr>\n",
       "<tr>\n",
       "  <th>const</th>      <td>    0.0292</td> <td>    0.015</td> <td>    1.887</td> <td> 0.059</td> <td>   -0.001</td> <td>    0.060</td>\n",
       "</tr>\n",
       "<tr>\n",
       "  <th>ar.L1.TVIX</th> <td>   -0.1545</td> <td>    0.162</td> <td>   -0.952</td> <td> 0.341</td> <td>   -0.473</td> <td>    0.164</td>\n",
       "</tr>\n",
       "<tr>\n",
       "  <th>ar.L2.TVIX</th> <td>    0.7097</td> <td>    0.122</td> <td>    5.821</td> <td> 0.000</td> <td>    0.471</td> <td>    0.949</td>\n",
       "</tr>\n",
       "<tr>\n",
       "  <th>ar.L3.TVIX</th> <td>    0.3517</td> <td>    0.075</td> <td>    4.686</td> <td> 0.000</td> <td>    0.205</td> <td>    0.499</td>\n",
       "</tr>\n",
       "<tr>\n",
       "  <th>ar.L4.TVIX</th> <td>    0.1238</td> <td>    0.069</td> <td>    1.787</td> <td> 0.074</td> <td>   -0.012</td> <td>    0.260</td>\n",
       "</tr>\n",
       "<tr>\n",
       "  <th>ar.L5.TVIX</th> <td>   -0.1759</td> <td>    0.063</td> <td>   -2.791</td> <td> 0.005</td> <td>   -0.299</td> <td>   -0.052</td>\n",
       "</tr>\n",
       "<tr>\n",
       "  <th>ma.L1.TVIX</th> <td>   -0.1237</td> <td>    0.155</td> <td>   -0.798</td> <td> 0.425</td> <td>   -0.428</td> <td>    0.180</td>\n",
       "</tr>\n",
       "<tr>\n",
       "  <th>ma.L2.TVIX</th> <td>   -0.8763</td> <td>    0.155</td> <td>   -5.657</td> <td> 0.000</td> <td>   -1.180</td> <td>   -0.573</td>\n",
       "</tr>\n",
       "</table>\n",
       "<table class=\"simpletable\">\n",
       "<caption>Roots</caption>\n",
       "<tr>\n",
       "    <td></td>   <th>            Real</th>  <th>         Imaginary</th> <th>         Modulus</th>  <th>        Frequency</th>\n",
       "</tr>\n",
       "<tr>\n",
       "  <th>AR.1</th> <td>          -1.0893</td> <td>          -0.0000j</td> <td>           1.0893</td> <td>          -0.5000</td>\n",
       "</tr>\n",
       "<tr>\n",
       "  <th>AR.2</th> <td>          -0.7156</td> <td>          -1.3223j</td> <td>           1.5035</td> <td>          -0.3289</td>\n",
       "</tr>\n",
       "<tr>\n",
       "  <th>AR.3</th> <td>          -0.7156</td> <td>          +1.3223j</td> <td>           1.5035</td> <td>           0.3289</td>\n",
       "</tr>\n",
       "<tr>\n",
       "  <th>AR.4</th> <td>           1.0731</td> <td>          -0.0000j</td> <td>           1.0731</td> <td>          -0.0000</td>\n",
       "</tr>\n",
       "<tr>\n",
       "  <th>AR.5</th> <td>           2.1513</td> <td>          -0.0000j</td> <td>           2.1513</td> <td>          -0.0000</td>\n",
       "</tr>\n",
       "<tr>\n",
       "  <th>MA.1</th> <td>           1.0000</td> <td>          +0.0000j</td> <td>           1.0000</td> <td>           0.0000</td>\n",
       "</tr>\n",
       "<tr>\n",
       "  <th>MA.2</th> <td>          -1.1411</td> <td>          +0.0000j</td> <td>           1.1411</td> <td>           0.5000</td>\n",
       "</tr>\n",
       "</table>"
      ],
      "text/plain": [
       "<class 'statsmodels.iolib.summary.Summary'>\n",
       "\"\"\"\n",
       "                              ARMA Model Results                              \n",
       "==============================================================================\n",
       "Dep. Variable:                   TVIX   No. Observations:                  242\n",
       "Model:                     ARMA(5, 2)   Log Likelihood                -446.983\n",
       "Method:                       css-mle   S.D. of innovations              1.526\n",
       "Date:                Wed, 24 Jun 2020   AIC                            911.966\n",
       "Time:                        16:42:57   BIC                            943.366\n",
       "Sample:                             0   HQIC                           924.615\n",
       "                                                                              \n",
       "==============================================================================\n",
       "                 coef    std err          z      P>|z|      [0.025      0.975]\n",
       "------------------------------------------------------------------------------\n",
       "const          0.0292      0.015      1.887      0.059      -0.001       0.060\n",
       "ar.L1.TVIX    -0.1545      0.162     -0.952      0.341      -0.473       0.164\n",
       "ar.L2.TVIX     0.7097      0.122      5.821      0.000       0.471       0.949\n",
       "ar.L3.TVIX     0.3517      0.075      4.686      0.000       0.205       0.499\n",
       "ar.L4.TVIX     0.1238      0.069      1.787      0.074      -0.012       0.260\n",
       "ar.L5.TVIX    -0.1759      0.063     -2.791      0.005      -0.299      -0.052\n",
       "ma.L1.TVIX    -0.1237      0.155     -0.798      0.425      -0.428       0.180\n",
       "ma.L2.TVIX    -0.8763      0.155     -5.657      0.000      -1.180      -0.573\n",
       "                                    Roots                                    \n",
       "=============================================================================\n",
       "                  Real          Imaginary           Modulus         Frequency\n",
       "-----------------------------------------------------------------------------\n",
       "AR.1           -1.0893           -0.0000j            1.0893           -0.5000\n",
       "AR.2           -0.7156           -1.3223j            1.5035           -0.3289\n",
       "AR.3           -0.7156           +1.3223j            1.5035            0.3289\n",
       "AR.4            1.0731           -0.0000j            1.0731           -0.0000\n",
       "AR.5            2.1513           -0.0000j            2.1513           -0.0000\n",
       "MA.1            1.0000           +0.0000j            1.0000            0.0000\n",
       "MA.2           -1.1411           +0.0000j            1.1411            0.5000\n",
       "-----------------------------------------------------------------------------\n",
       "\"\"\""
      ]
     },
     "execution_count": 93,
     "metadata": {},
     "output_type": "execute_result"
    }
   ],
   "source": [
    "model2=arima_model.ARIMA(TVIXroot,order=(5,0,2)).fit()\n",
    "model2.summary()"
   ]
  },
  {
   "cell_type": "code",
   "execution_count": 94,
   "metadata": {},
   "outputs": [
    {
     "data": {
      "text/html": [
       "<div>\n",
       "<style scoped>\n",
       "    .dataframe tbody tr th:only-of-type {\n",
       "        vertical-align: middle;\n",
       "    }\n",
       "\n",
       "    .dataframe tbody tr th {\n",
       "        vertical-align: top;\n",
       "    }\n",
       "\n",
       "    .dataframe thead th {\n",
       "        text-align: right;\n",
       "    }\n",
       "</style>\n",
       "<table border=\"1\" class=\"dataframe\">\n",
       "  <thead>\n",
       "    <tr style=\"text-align: right;\">\n",
       "      <th></th>\n",
       "      <th>0</th>\n",
       "      <th>1</th>\n",
       "    </tr>\n",
       "  </thead>\n",
       "  <tbody>\n",
       "    <tr>\n",
       "      <th>const</th>\n",
       "      <td>-0.002554</td>\n",
       "      <td>0.061854</td>\n",
       "    </tr>\n",
       "    <tr>\n",
       "      <th>ar.L1.TVIX</th>\n",
       "      <td>-1.379056</td>\n",
       "      <td>-0.848937</td>\n",
       "    </tr>\n",
       "    <tr>\n",
       "      <th>ar.L2.TVIX</th>\n",
       "      <td>-0.717246</td>\n",
       "      <td>-0.399295</td>\n",
       "    </tr>\n",
       "    <tr>\n",
       "      <th>ar.L3.TVIX</th>\n",
       "      <td>-0.074731</td>\n",
       "      <td>0.182586</td>\n",
       "    </tr>\n",
       "    <tr>\n",
       "      <th>ar.L4.TVIX</th>\n",
       "      <td>0.801756</td>\n",
       "      <td>1.063525</td>\n",
       "    </tr>\n",
       "    <tr>\n",
       "      <th>ar.L5.TVIX</th>\n",
       "      <td>0.682053</td>\n",
       "      <td>1.185394</td>\n",
       "    </tr>\n",
       "    <tr>\n",
       "      <th>ar.L6.TVIX</th>\n",
       "      <td>0.101641</td>\n",
       "      <td>0.368172</td>\n",
       "    </tr>\n",
       "    <tr>\n",
       "      <th>ma.L1.TVIX</th>\n",
       "      <td>0.592495</td>\n",
       "      <td>1.110153</td>\n",
       "    </tr>\n",
       "    <tr>\n",
       "      <th>ma.L2.TVIX</th>\n",
       "      <td>0.068541</td>\n",
       "      <td>0.266671</td>\n",
       "    </tr>\n",
       "    <tr>\n",
       "      <th>ma.L3.TVIX</th>\n",
       "      <td>-0.266202</td>\n",
       "      <td>-0.100260</td>\n",
       "    </tr>\n",
       "    <tr>\n",
       "      <th>ma.L4.TVIX</th>\n",
       "      <td>-1.083573</td>\n",
       "      <td>-0.896936</td>\n",
       "    </tr>\n",
       "    <tr>\n",
       "      <th>ma.L5.TVIX</th>\n",
       "      <td>-1.113468</td>\n",
       "      <td>-0.577421</td>\n",
       "    </tr>\n",
       "  </tbody>\n",
       "</table>\n",
       "</div>"
      ],
      "text/plain": [
       "                   0         1\n",
       "const      -0.002554  0.061854\n",
       "ar.L1.TVIX -1.379056 -0.848937\n",
       "ar.L2.TVIX -0.717246 -0.399295\n",
       "ar.L3.TVIX -0.074731  0.182586\n",
       "ar.L4.TVIX  0.801756  1.063525\n",
       "ar.L5.TVIX  0.682053  1.185394\n",
       "ar.L6.TVIX  0.101641  0.368172\n",
       "ma.L1.TVIX  0.592495  1.110153\n",
       "ma.L2.TVIX  0.068541  0.266671\n",
       "ma.L3.TVIX -0.266202 -0.100260\n",
       "ma.L4.TVIX -1.083573 -0.896936\n",
       "ma.L5.TVIX -1.113468 -0.577421"
      ]
     },
     "execution_count": 94,
     "metadata": {},
     "output_type": "execute_result"
    }
   ],
   "source": [
    "model1.conf_int()"
   ]
  },
  {
   "cell_type": "code",
   "execution_count": 95,
   "metadata": {},
   "outputs": [
    {
     "data": {
      "image/png": "[encoded data removed]",
      "text/plain": [
       "<Figure size 432x288 with 1 Axes>"
      ]
     },
     "execution_count": 95,
     "metadata": {},
     "output_type": "execute_result"
    },
    {
     "data": {
      "image/png": "[encoded data removed]",
      "text/plain": [
       "<Figure size 432x288 with 1 Axes>"
      ]
     },
     "metadata": {
      "needs_background": "light"
     },
     "output_type": "display_data"
    },
    {
     "data": {
      "image/png": "[encoded data removed]",
      "text/plain": [
       "<Figure size 432x288 with 1 Axes>"
      ]
     },
     "metadata": {
      "needs_background": "light"
     },
     "output_type": "display_data"
    }
   ],
   "source": [
    "stdresid=model1.resid/math.sqrt(model1.sigma2)\n",
    "plt.plot(stdresid)\n",
    "plot_acf(stdresid,lags=20)"
   ]
  },
  {
   "cell_type": "code",
   "execution_count": 96,
   "metadata": {},
   "outputs": [
    {
     "name": "stderr",
     "output_type": "stream",
     "text": [
      "C:\\Users\\user\\anaconda3\\lib\\site-packages\\statsmodels\\tsa\\stattools.py:572: FutureWarning: fft=True will become the default in a future version of statsmodels. To suppress this warning, explicitly set fft=False.\n",
      "  FutureWarning\n"
     ]
    },
    {
     "data": {
      "text/plain": [
       "0.9107199528443483"
      ]
     },
     "execution_count": 96,
     "metadata": {},
     "output_type": "execute_result"
    }
   ],
   "source": [
    "LjungBox=stattools.q_stat(stattools.acf(stdresid)[1:13],len(stdresid))\n",
    "LjungBox[1][-1]"
   ]
  },
  {
   "cell_type": "code",
   "execution_count": 97,
   "metadata": {},
   "outputs": [
    {
     "data": {
      "text/plain": [
       "0.9844341638108919"
      ]
     },
     "execution_count": 97,
     "metadata": {},
     "output_type": "execute_result"
    }
   ],
   "source": [
    "#增加Ljung-Box檢定的落後階數\n",
    "LjungBox=stattools.q_stat(stattools.acf(stdresid)[1:20],len(stdresid))\n",
    "LjungBox[1][-1]"
   ]
  },
  {
   "cell_type": "code",
   "execution_count": 98,
   "metadata": {},
   "outputs": [
    {
     "data": {
      "image/png": "[encoded data removed]",
      "text/plain": [
       "<Figure size 432x288 with 1 Axes>"
      ]
     },
     "execution_count": 98,
     "metadata": {},
     "output_type": "execute_result"
    },
    {
     "data": {
      "image/png": "[encoded data removed]",
      "text/plain": [
       "<Figure size 432x288 with 1 Axes>"
      ]
     },
     "metadata": {
      "needs_background": "light"
     },
     "output_type": "display_data"
    }
   ],
   "source": [
    "plot_acf(stdresid,lags=40)"
   ]
  },
  {
   "cell_type": "code",
   "execution_count": 106,
   "metadata": {},
   "outputs": [
    {
     "data": {
      "text/plain": [
       "array([ 0.24547436, -0.16862746, -0.24842445,  0.24401638,  0.26071064,\n",
       "       -0.48903298,  0.09624593,  0.15119377,  0.17943489])"
      ]
     },
     "execution_count": 106,
     "metadata": {},
     "output_type": "execute_result"
    }
   ],
   "source": [
    "#用model3 預測未來3期的CPI\n",
    "model1.forecast(9)[0]"
   ]
  },
  {
   "cell_type": "code",
   "execution_count": 105,
   "metadata": {},
   "outputs": [
    {
     "data": {
      "text/html": [
       "<div>\n",
       "<style scoped>\n",
       "    .dataframe tbody tr th:only-of-type {\n",
       "        vertical-align: middle;\n",
       "    }\n",
       "\n",
       "    .dataframe tbody tr th {\n",
       "        vertical-align: top;\n",
       "    }\n",
       "\n",
       "    .dataframe thead th {\n",
       "        text-align: right;\n",
       "    }\n",
       "</style>\n",
       "<table border=\"1\" class=\"dataframe\">\n",
       "  <thead>\n",
       "    <tr style=\"text-align: right;\">\n",
       "      <th></th>\n",
       "      <th>TVIX</th>\n",
       "    </tr>\n",
       "    <tr>\n",
       "      <th>time</th>\n",
       "      <th></th>\n",
       "    </tr>\n",
       "  </thead>\n",
       "  <tbody>\n",
       "    <tr>\n",
       "      <th>2018-12-26</th>\n",
       "      <td>1.08</td>\n",
       "    </tr>\n",
       "    <tr>\n",
       "      <th>2018-12-27</th>\n",
       "      <td>-2.53</td>\n",
       "    </tr>\n",
       "  </tbody>\n",
       "</table>\n",
       "</div>"
      ],
      "text/plain": [
       "            TVIX\n",
       "time            \n",
       "2018-12-26  1.08\n",
       "2018-12-27 -2.53"
      ]
     },
     "execution_count": 105,
     "metadata": {},
     "output_type": "execute_result"
    }
   ],
   "source": [
    "TVIXtestdiff=TVIXtest.diff()[1:]\n",
    "TVIXtestdiff"
   ]
  },
  {
   "cell_type": "code",
   "execution_count": null,
   "metadata": {},
   "outputs": [],
   "source": []
  },
  {
   "cell_type": "code",
   "execution_count": 109,
   "metadata": {},
   "outputs": [
    {
     "data": {
      "text/html": [
       "<div>\n",
       "<style scoped>\n",
       "    .dataframe tbody tr th:only-of-type {\n",
       "        vertical-align: middle;\n",
       "    }\n",
       "\n",
       "    .dataframe tbody tr th {\n",
       "        vertical-align: top;\n",
       "    }\n",
       "\n",
       "    .dataframe thead th {\n",
       "        text-align: right;\n",
       "    }\n",
       "</style>\n",
       "<table border=\"1\" class=\"dataframe\">\n",
       "  <thead>\n",
       "    <tr style=\"text-align: right;\">\n",
       "      <th></th>\n",
       "      <th>TVIX</th>\n",
       "    </tr>\n",
       "    <tr>\n",
       "      <th>time</th>\n",
       "      <th></th>\n",
       "    </tr>\n",
       "  </thead>\n",
       "  <tbody>\n",
       "    <tr>\n",
       "      <th>2018-12-19</th>\n",
       "      <td>-0.77</td>\n",
       "    </tr>\n",
       "    <tr>\n",
       "      <th>2018-12-20</th>\n",
       "      <td>1.12</td>\n",
       "    </tr>\n",
       "    <tr>\n",
       "      <th>2018-12-21</th>\n",
       "      <td>-0.69</td>\n",
       "    </tr>\n",
       "    <tr>\n",
       "      <th>2018-12-22</th>\n",
       "      <td>0.94</td>\n",
       "    </tr>\n",
       "    <tr>\n",
       "      <th>2018-12-24</th>\n",
       "      <td>-0.58</td>\n",
       "    </tr>\n",
       "  </tbody>\n",
       "</table>\n",
       "</div>"
      ],
      "text/plain": [
       "            TVIX\n",
       "time            \n",
       "2018-12-19 -0.77\n",
       "2018-12-20  1.12\n",
       "2018-12-21 -0.69\n",
       "2018-12-22  0.94\n",
       "2018-12-24 -0.58"
      ]
     },
     "execution_count": 109,
     "metadata": {},
     "output_type": "execute_result"
    }
   ],
   "source": [
    "TVIXroot=TVIXtrain.diff()[1:]\n",
    "TVIXroot.tail()"
   ]
  },
  {
   "cell_type": "code",
   "execution_count": null,
   "metadata": {},
   "outputs": [],
   "source": []
  }
 ],
 "metadata": {
  "kernelspec": {
   "display_name": "Python 3",
   "language": "python",
   "name": "python3"
  },
  "language_info": {
   "codemirror_mode": {
    "name": "ipython",
    "version": 3
   },
   "file_extension": ".py",
   "mimetype": "text/x-python",
   "name": "python",
   "nbconvert_exporter": "python",
   "pygments_lexer": "ipython3",
   "version": "3.7.6"
  }
 },
 "nbformat": 4,
 "nbformat_minor": 4
}
